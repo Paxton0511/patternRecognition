{
 "cells": [
  {
   "cell_type": "code",
   "execution_count": 1,
   "id": "dc58e705",
   "metadata": {},
   "outputs": [],
   "source": [
    "import string\n",
    "\n",
    "class Vectorizer:\n",
    "    def standardize(self, text):\n",
    "        text = text.lower()\n",
    "        return \"\".join(char for char in text if char not in string.punctuation)\n",
    "\n",
    "    def tokenize(self, text):\n",
    "        text = self.standardize(text)\n",
    "        return text.split()\n",
    "\n",
    "    def make_vocabulary(self, dataset):\n",
    "        self.vocabulary = {\"\": 0, \"[UNK]\": 1}\n",
    "        for text in dataset:\n",
    "            text = self.standardize(text)\n",
    "            tokens = self.tokenize(text)\n",
    "            for token in tokens:\n",
    "                if token not in self.vocabulary:\n",
    "                    self.vocabulary[token] = len(self.vocabulary)\n",
    "        self.inverse_vocabulary = dict(\n",
    "            (v, k) for k, v in self.vocabulary.items())\n",
    "\n",
    "    def encode(self, text):\n",
    "        text = self.standardize(text)\n",
    "        tokens = self.tokenize(text)\n",
    "        return [self.vocabulary.get(token, 1) for token in tokens]\n",
    "\n",
    "    def decode(self, int_sequence):\n",
    "        return \" \".join(\n",
    "            self.inverse_vocabulary.get(i, \"[UNK]\") for i in int_sequence)\n",
    "\n",
    "vectorizer = Vectorizer()\n",
    "dataset = [\n",
    "    \"I write, erase, rewrite\",\n",
    "    \"Erase again, and then\",\n",
    "    \"A poppy blooms.\",\n",
    "]\n",
    "vectorizer.make_vocabulary(dataset)"
   ]
  },
  {
   "cell_type": "code",
   "execution_count": 2,
   "id": "8f9b67a4",
   "metadata": {},
   "outputs": [
    {
     "name": "stdout",
     "output_type": "stream",
     "text": [
      "[2, 3, 5, 7, 1, 5, 6]\n"
     ]
    }
   ],
   "source": [
    "test_sentence = \"I write, rewrite, and still rewrite again\"\n",
    "encoded_sentence = vectorizer.encode(test_sentence)\n",
    "print(encoded_sentence)"
   ]
  },
  {
   "cell_type": "code",
   "execution_count": 3,
   "id": "c5a5e76e",
   "metadata": {},
   "outputs": [
    {
     "name": "stdout",
     "output_type": "stream",
     "text": [
      "i write rewrite and [UNK] rewrite again\n"
     ]
    }
   ],
   "source": [
    "decoded_sentence = vectorizer.decode(encoded_sentence)\n",
    "print(decoded_sentence)"
   ]
  },
  {
   "cell_type": "code",
   "execution_count": 4,
   "id": "24be9fad",
   "metadata": {},
   "outputs": [],
   "source": [
    "from tensorflow.keras.layers import TextVectorization\n",
    "text_vectorization = TextVectorization(\n",
    "    output_mode=\"int\",\n",
    ")"
   ]
  },
  {
   "cell_type": "code",
   "execution_count": 5,
   "id": "0f8af3cc",
   "metadata": {},
   "outputs": [],
   "source": [
    "import re\n",
    "import string\n",
    "import tensorflow as tf\n",
    "\n",
    "def custom_standardization_fn(string_tensor):\n",
    "    lowercase_string = tf.strings.lower(string_tensor)\n",
    "    return tf.strings.regex_replace(\n",
    "        lowercase_string, f\"[{re.escape(string.punctuation)}]\", \"\")\n",
    "\n",
    "def custom_split_fn(string_tensor):\n",
    "    return tf.strings.split(string_tensor)\n",
    "\n",
    "text_vectorization = TextVectorization(\n",
    "    output_mode=\"int\",\n",
    "    standardize=custom_standardization_fn,\n",
    "    split=custom_split_fn,\n",
    ")"
   ]
  },
  {
   "cell_type": "code",
   "execution_count": 6,
   "id": "cf5877d2",
   "metadata": {},
   "outputs": [],
   "source": [
    "dataset = [\n",
    "    \"I write, erase, rewrite\",\n",
    "    \"Erase again, and then\",\n",
    "    \"A poppy blooms.\",\n",
    "]\n",
    "text_vectorization.adapt(dataset)"
   ]
  },
  {
   "cell_type": "code",
   "execution_count": 7,
   "id": "80349ef2",
   "metadata": {},
   "outputs": [
    {
     "data": {
      "text/plain": [
       "['',\n",
       " '[UNK]',\n",
       " 'erase',\n",
       " 'write',\n",
       " 'then',\n",
       " 'rewrite',\n",
       " 'poppy',\n",
       " 'i',\n",
       " 'blooms',\n",
       " 'and',\n",
       " 'again',\n",
       " 'a']"
      ]
     },
     "execution_count": 7,
     "metadata": {},
     "output_type": "execute_result"
    }
   ],
   "source": [
    "text_vectorization.get_vocabulary()"
   ]
  },
  {
   "cell_type": "code",
   "execution_count": 8,
   "id": "b50c0018",
   "metadata": {},
   "outputs": [
    {
     "name": "stdout",
     "output_type": "stream",
     "text": [
      "tf.Tensor([ 7  3  5  9  1  5 10], shape=(7,), dtype=int64)\n"
     ]
    }
   ],
   "source": [
    "vocabulary = text_vectorization.get_vocabulary()\n",
    "test_sentence = \"I write, rewrite, and still rewrite again\"\n",
    "encoded_sentence = text_vectorization(test_sentence)\n",
    "print(encoded_sentence)"
   ]
  },
  {
   "cell_type": "code",
   "execution_count": 9,
   "id": "4911853a",
   "metadata": {},
   "outputs": [
    {
     "name": "stdout",
     "output_type": "stream",
     "text": [
      "i write rewrite and [UNK] rewrite again\n"
     ]
    }
   ],
   "source": [
    "inverse_vocab = dict(enumerate(vocabulary))\n",
    "decoded_sentence = \" \".join(inverse_vocab[int(i)] for i in encoded_sentence)\n",
    "print(decoded_sentence)"
   ]
  },
  {
   "cell_type": "code",
   "execution_count": 10,
   "id": "e9e3a9b6",
   "metadata": {},
   "outputs": [
    {
     "name": "stderr",
     "output_type": "stream",
     "text": [
      "  % Total    % Received % Xferd  Average Speed   Time    Time     Time  Current\n",
      "                                 Dload  Upload   Total   Spent    Left  Speed\n",
      "\n",
      "  0     0    0     0    0     0      0      0 --:--:-- --:--:-- --:--:--     0\n",
      "  0     0    0     0    0     0      0      0 --:--:-- --:--:-- --:--:--     0\n",
      "  0 80.2M    0 81920    0     0  56948      0  0:24:37  0:00:01  0:24:36 56928\n",
      "  0 80.2M    0  448k    0     0   187k      0  0:07:19  0:00:02  0:07:17  187k\n",
      "  1 80.2M    1 1504k    0     0   442k      0  0:03:05  0:00:03  0:03:02  443k\n",
      "  5 80.2M    5 4288k    0     0   974k      0  0:01:24  0:00:04  0:01:20  974k\n",
      " 12 80.2M   12 10.0M    0     0  1898k      0  0:00:43  0:00:05  0:00:38 2145k\n",
      " 21 80.2M   21 17.1M    0     0  2749k      0  0:00:29  0:00:06  0:00:23 3531k\n",
      " 30 80.2M   30 24.4M    0     0  3380k      0  0:00:24  0:00:07  0:00:17 4908k\n",
      " 39 80.2M   39 32.0M    0     0  3911k      0  0:00:21  0:00:08  0:00:13 6268k\n",
      " 49 80.2M   49 39.6M    0     0  4318k      0  0:00:19  0:00:09  0:00:10 7263k\n",
      " 58 80.2M   58 46.5M    0     0  4586k      0  0:00:17  0:00:10  0:00:07 7483k\n",
      " 66 80.2M   66 53.4M    0     0  4801k      0  0:00:17  0:00:11  0:00:06 7424k\n",
      " 75 80.2M   75 60.8M    0     0  5022k      0  0:00:16  0:00:12  0:00:04 7448k\n",
      " 83 80.2M   83 66.9M    0     0  5122k      0  0:00:16  0:00:13  0:00:03 7153k\n",
      " 90 80.2M   90 72.8M    0     0  5180k      0  0:00:15  0:00:14  0:00:01 6799k\n",
      " 98 80.2M   98 79.0M    0     0  5258k      0  0:00:15  0:00:15 --:--:-- 6657k\n",
      "100 80.2M  100 80.2M    0     0  5270k      0  0:00:15  0:00:15 --:--:-- 6543k\n"
     ]
    }
   ],
   "source": [
    "!curl -O https://ai.stanford.edu/~amaas/data/sentiment/aclImdb_v1.tar.gz\n",
    "!tar -xf aclImdb_v1.tar.gz"
   ]
  },
  {
   "cell_type": "code",
   "execution_count": 11,
   "id": "d1943ddf",
   "metadata": {},
   "outputs": [
    {
     "name": "stderr",
     "output_type": "stream",
     "text": [
      "'rm' 不是內部或外部命令、可執行的程式或批次檔。\n"
     ]
    }
   ],
   "source": [
    "!rm -r aclImdb/train/unsup"
   ]
  },
  {
   "cell_type": "code",
   "execution_count": 12,
   "id": "b90454a0",
   "metadata": {},
   "outputs": [
    {
     "name": "stderr",
     "output_type": "stream",
     "text": [
      "'cat' 不是內部或外部命令、可執行的程式或批次檔。\n"
     ]
    }
   ],
   "source": [
    "\n",
    "!cat aclImdb/train/pos/4077_10.txt"
   ]
  },
  {
   "cell_type": "code",
   "execution_count": 13,
   "id": "80acaae9",
   "metadata": {},
   "outputs": [],
   "source": [
    "import os, pathlib, shutil, random\n",
    "\n",
    "base_dir = pathlib.Path(\"aclImdb\")\n",
    "val_dir = base_dir / \"val\"\n",
    "train_dir = base_dir / \"train\"\n",
    "for category in (\"neg\", \"pos\"):\n",
    "    os.makedirs(val_dir / category)\n",
    "    files = os.listdir(train_dir / category)\n",
    "    random.Random(1337).shuffle(files)\n",
    "    num_val_samples = int(0.2 * len(files))\n",
    "    val_files = files[-num_val_samples:]\n",
    "    for fname in val_files:\n",
    "        shutil.move(train_dir / category / fname,\n",
    "                    val_dir / category / fname)"
   ]
  },
  {
   "cell_type": "code",
   "execution_count": 14,
   "id": "af65f1b4",
   "metadata": {},
   "outputs": [
    {
     "name": "stdout",
     "output_type": "stream",
     "text": [
      "Found 70000 files belonging to 3 classes.\n",
      "Found 5000 files belonging to 2 classes.\n",
      "Found 25000 files belonging to 2 classes.\n"
     ]
    }
   ],
   "source": [
    "from tensorflow import keras\n",
    "batch_size = 32\n",
    "\n",
    "train_ds = keras.utils.text_dataset_from_directory(\n",
    "    \"aclImdb/train\", batch_size=batch_size\n",
    ")\n",
    "val_ds = keras.utils.text_dataset_from_directory(\n",
    "    \"aclImdb/val\", batch_size=batch_size\n",
    ")\n",
    "test_ds = keras.utils.text_dataset_from_directory(\n",
    "    \"aclImdb/test\", batch_size=batch_size\n",
    ")"
   ]
  },
  {
   "cell_type": "code",
   "execution_count": 15,
   "id": "ce4fc812",
   "metadata": {},
   "outputs": [
    {
     "name": "stdout",
     "output_type": "stream",
     "text": [
      "inputs.shape: (32,)\n",
      "inputs.dtype: <dtype: 'string'>\n",
      "targets.shape: (32,)\n",
      "targets.dtype: <dtype: 'int32'>\n",
      "inputs[0]: tf.Tensor(b\"It's a shame, really, that the script of this film had more holes than you could shake a stick at (mixed metaphor intentional), because Kinski and Coyote - both supremely talented performers who are capable of great subtlety and nuance - have wonderful chemistry together, and the always-provocative Fairuza Balk didn't hurt the mix either. Jeremy Piven would have been great here too, if his character (and all the other supporting characters) hadn't been written as a plot device. As for the main proceedings, the writers just didn't know how to create the suitable guilty-or-innocent tension for Kinski's character -- instead they gave us confusion, contradiction and, by the finale, downright let's-hope-the-viewers-don't-notice claptrap.\", shape=(), dtype=string)\n",
      "targets[0]: tf.Tensor(2, shape=(), dtype=int32)\n"
     ]
    }
   ],
   "source": [
    "for inputs, targets in train_ds:\n",
    "    print(\"inputs.shape:\", inputs.shape)\n",
    "    print(\"inputs.dtype:\", inputs.dtype)\n",
    "    print(\"targets.shape:\", targets.shape)\n",
    "    print(\"targets.dtype:\", targets.dtype)\n",
    "    print(\"inputs[0]:\", inputs[0])\n",
    "    print(\"targets[0]:\", targets[0])\n",
    "    break"
   ]
  },
  {
   "cell_type": "code",
   "execution_count": 16,
   "id": "a9026bdc",
   "metadata": {},
   "outputs": [],
   "source": [
    "text_vectorization = TextVectorization(\n",
    "    max_tokens=20000,\n",
    "    output_mode=\"multi_hot\",\n",
    ")\n",
    "text_only_train_ds = train_ds.map(lambda x, y: x)\n",
    "text_vectorization.adapt(text_only_train_ds)\n",
    "\n",
    "binary_1gram_train_ds = train_ds.map(\n",
    "    lambda x, y: (text_vectorization(x), y),\n",
    "    num_parallel_calls=4)\n",
    "binary_1gram_val_ds = val_ds.map(\n",
    "    lambda x, y: (text_vectorization(x), y),\n",
    "    num_parallel_calls=4)\n",
    "binary_1gram_test_ds = test_ds.map(\n",
    "    lambda x, y: (text_vectorization(x), y),\n",
    "    num_parallel_calls=4)"
   ]
  },
  {
   "cell_type": "code",
   "execution_count": 17,
   "id": "97ec6b45",
   "metadata": {},
   "outputs": [
    {
     "name": "stdout",
     "output_type": "stream",
     "text": [
      "inputs.shape: (32, 20000)\n",
      "inputs.dtype: <dtype: 'float32'>\n",
      "targets.shape: (32,)\n",
      "targets.dtype: <dtype: 'int32'>\n",
      "inputs[0]: tf.Tensor([1. 1. 1. ... 0. 0. 0.], shape=(20000,), dtype=float32)\n",
      "targets[0]: tf.Tensor(2, shape=(), dtype=int32)\n"
     ]
    }
   ],
   "source": [
    "for inputs, targets in binary_1gram_train_ds:\n",
    "    print(\"inputs.shape:\", inputs.shape)\n",
    "    print(\"inputs.dtype:\", inputs.dtype)\n",
    "    print(\"targets.shape:\", targets.shape)\n",
    "    print(\"targets.dtype:\", targets.dtype)\n",
    "    print(\"inputs[0]:\", inputs[0])\n",
    "    print(\"targets[0]:\", targets[0])\n",
    "    break"
   ]
  },
  {
   "cell_type": "code",
   "execution_count": 18,
   "id": "95c2dcef",
   "metadata": {},
   "outputs": [],
   "source": [
    "from tensorflow import keras\n",
    "from tensorflow.keras import layers\n",
    "\n",
    "def get_model(max_tokens=20000, hidden_dim=16):\n",
    "    inputs = keras.Input(shape=(max_tokens,))\n",
    "    x = layers.Dense(hidden_dim, activation=\"relu\")(inputs)\n",
    "    x = layers.Dropout(0.5)(x)\n",
    "    outputs = layers.Dense(1, activation=\"sigmoid\")(x)\n",
    "    model = keras.Model(inputs, outputs)\n",
    "    model.compile(optimizer=\"rmsprop\",\n",
    "                  loss=\"binary_crossentropy\",\n",
    "                  metrics=[\"accuracy\"])\n",
    "    return model"
   ]
  },
  {
   "cell_type": "code",
   "execution_count": 19,
   "id": "4a919f70",
   "metadata": {},
   "outputs": [
    {
     "name": "stdout",
     "output_type": "stream",
     "text": [
      "Model: \"model\"\n",
      "_________________________________________________________________\n",
      " Layer (type)                Output Shape              Param #   \n",
      "=================================================================\n",
      " input_1 (InputLayer)        [(None, 20000)]           0         \n",
      "                                                                 \n",
      " dense (Dense)               (None, 16)                320016    \n",
      "                                                                 \n",
      " dropout (Dropout)           (None, 16)                0         \n",
      "                                                                 \n",
      " dense_1 (Dense)             (None, 1)                 17        \n",
      "                                                                 \n",
      "=================================================================\n",
      "Total params: 320,033\n",
      "Trainable params: 320,033\n",
      "Non-trainable params: 0\n",
      "_________________________________________________________________\n",
      "Epoch 1/10\n",
      "2188/2188 [==============================] - 18s 8ms/step - loss: -503.5693 - accuracy: 0.1429 - val_loss: 1249.2104 - val_accuracy: 0.5000\n",
      "Epoch 2/10\n",
      "2188/2188 [==============================] - 7s 3ms/step - loss: -3147.5430 - accuracy: 0.1429 - val_loss: 4644.4102 - val_accuracy: 0.5000\n",
      "Epoch 3/10\n",
      "2188/2188 [==============================] - 7s 3ms/step - loss: -8226.8740 - accuracy: 0.1429 - val_loss: 10188.9121 - val_accuracy: 0.5000\n",
      "Epoch 4/10\n",
      "2188/2188 [==============================] - 6s 3ms/step - loss: -15752.4775 - accuracy: 0.1429 - val_loss: 17876.3496 - val_accuracy: 0.5000\n",
      "Epoch 5/10\n",
      "2188/2188 [==============================] - 7s 3ms/step - loss: -25460.0469 - accuracy: 0.1429 - val_loss: 27670.7559 - val_accuracy: 0.5000\n",
      "Epoch 6/10\n",
      "2188/2188 [==============================] - 7s 3ms/step - loss: -37823.3828 - accuracy: 0.1429 - val_loss: 39617.9375 - val_accuracy: 0.5000\n",
      "Epoch 7/10\n",
      "2188/2188 [==============================] - 7s 3ms/step - loss: -52564.8359 - accuracy: 0.1429 - val_loss: 53707.3984 - val_accuracy: 0.5000\n",
      "Epoch 8/10\n",
      "2188/2188 [==============================] - 7s 3ms/step - loss: -69999.9531 - accuracy: 0.1429 - val_loss: 69969.2422 - val_accuracy: 0.5000\n",
      "Epoch 9/10\n",
      "2188/2188 [==============================] - 7s 3ms/step - loss: -89684.8359 - accuracy: 0.1429 - val_loss: 88341.2578 - val_accuracy: 0.5000\n",
      "Epoch 10/10\n",
      "2188/2188 [==============================] - 7s 3ms/step - loss: -112047.0859 - accuracy: 0.1429 - val_loss: 108887.6797 - val_accuracy: 0.5000\n",
      "782/782 [==============================] - 12s 15ms/step - loss: 1242.0470 - accuracy: 0.5000\n",
      "Test acc: 0.500\n"
     ]
    }
   ],
   "source": [
    "model = get_model()\n",
    "model.summary()\n",
    "callbacks = [\n",
    "    keras.callbacks.ModelCheckpoint(\"binary_1gram.keras\",\n",
    "                                    save_best_only=True)\n",
    "]\n",
    "model.fit(binary_1gram_train_ds.cache(),\n",
    "          validation_data=binary_1gram_val_ds.cache(),\n",
    "          epochs=10,\n",
    "          callbacks=callbacks)\n",
    "model = keras.models.load_model(\"binary_1gram.keras\")\n",
    "print(f\"Test acc: {model.evaluate(binary_1gram_test_ds)[1]:.3f}\")"
   ]
  },
  {
   "cell_type": "code",
   "execution_count": 20,
   "id": "1221f3f6",
   "metadata": {},
   "outputs": [],
   "source": [
    "text_vectorization = TextVectorization(\n",
    "    ngrams=2,\n",
    "    max_tokens=20000,\n",
    "    output_mode=\"multi_hot\",\n",
    ")"
   ]
  },
  {
   "cell_type": "code",
   "execution_count": 21,
   "id": "d502e943",
   "metadata": {},
   "outputs": [
    {
     "name": "stdout",
     "output_type": "stream",
     "text": [
      "Model: \"model_1\"\n",
      "_________________________________________________________________\n",
      " Layer (type)                Output Shape              Param #   \n",
      "=================================================================\n",
      " input_2 (InputLayer)        [(None, 20000)]           0         \n",
      "                                                                 \n",
      " dense_2 (Dense)             (None, 16)                320016    \n",
      "                                                                 \n",
      " dropout_1 (Dropout)         (None, 16)                0         \n",
      "                                                                 \n",
      " dense_3 (Dense)             (None, 1)                 17        \n",
      "                                                                 \n",
      "=================================================================\n",
      "Total params: 320,033\n",
      "Trainable params: 320,033\n",
      "Non-trainable params: 0\n",
      "_________________________________________________________________\n",
      "Epoch 1/10\n",
      "2188/2188 [==============================] - 19s 9ms/step - loss: -1038.1488 - accuracy: 0.1428 - val_loss: 2551.7986 - val_accuracy: 0.5000\n",
      "Epoch 2/10\n",
      "2188/2188 [==============================] - 8s 3ms/step - loss: -6398.4351 - accuracy: 0.1429 - val_loss: 9435.6660 - val_accuracy: 0.5000\n",
      "Epoch 3/10\n",
      "2188/2188 [==============================] - 7s 3ms/step - loss: -16612.5410 - accuracy: 0.1429 - val_loss: 20633.5273 - val_accuracy: 0.5000\n",
      "Epoch 4/10\n",
      "2188/2188 [==============================] - 7s 3ms/step - loss: -31820.8730 - accuracy: 0.1429 - val_loss: 36168.8438 - val_accuracy: 0.5000\n",
      "Epoch 5/10\n",
      "2188/2188 [==============================] - 7s 3ms/step - loss: -51841.2188 - accuracy: 0.1429 - val_loss: 56024.8633 - val_accuracy: 0.5000\n",
      "Epoch 6/10\n",
      "2188/2188 [==============================] - 7s 3ms/step - loss: -76761.9375 - accuracy: 0.1429 - val_loss: 80178.4844 - val_accuracy: 0.5000\n",
      "Epoch 7/10\n",
      "2188/2188 [==============================] - 7s 3ms/step - loss: -107007.0078 - accuracy: 0.1429 - val_loss: 108703.0625 - val_accuracy: 0.5000\n",
      "Epoch 8/10\n",
      "2188/2188 [==============================] - 7s 3ms/step - loss: -141368.0312 - accuracy: 0.1429 - val_loss: 141517.8281 - val_accuracy: 0.5000\n",
      "Epoch 9/10\n",
      "2188/2188 [==============================] - 7s 3ms/step - loss: -181580.8281 - accuracy: 0.1429 - val_loss: 178658.7188 - val_accuracy: 0.5000\n",
      "Epoch 10/10\n",
      "2188/2188 [==============================] - 7s 3ms/step - loss: -226722.4375 - accuracy: 0.1429 - val_loss: 220173.7031 - val_accuracy: 0.5000\n",
      "782/782 [==============================] - 4s 5ms/step - loss: 2535.4399 - accuracy: 0.5000\n",
      "Test acc: 0.500\n"
     ]
    }
   ],
   "source": [
    "text_vectorization.adapt(text_only_train_ds)\n",
    "binary_2gram_train_ds = train_ds.map(\n",
    "    lambda x, y: (text_vectorization(x), y),\n",
    "    num_parallel_calls=4)\n",
    "binary_2gram_val_ds = val_ds.map(\n",
    "    lambda x, y: (text_vectorization(x), y),\n",
    "    num_parallel_calls=4)\n",
    "binary_2gram_test_ds = test_ds.map(\n",
    "    lambda x, y: (text_vectorization(x), y),\n",
    "    num_parallel_calls=4)\n",
    "\n",
    "model = get_model()\n",
    "model.summary()\n",
    "callbacks = [\n",
    "    keras.callbacks.ModelCheckpoint(\"binary_2gram.keras\",\n",
    "                                    save_best_only=True)\n",
    "]\n",
    "model.fit(binary_2gram_train_ds.cache(),\n",
    "          validation_data=binary_2gram_val_ds.cache(),\n",
    "          epochs=10,\n",
    "          callbacks=callbacks)\n",
    "model = keras.models.load_model(\"binary_2gram.keras\")\n",
    "print(f\"Test acc: {model.evaluate(binary_2gram_test_ds)[1]:.3f}\")"
   ]
  },
  {
   "cell_type": "code",
   "execution_count": 22,
   "id": "d7d54eb0",
   "metadata": {},
   "outputs": [],
   "source": [
    "text_vectorization = TextVectorization(\n",
    "    ngrams=2,\n",
    "    max_tokens=20000,\n",
    "    output_mode=\"count\"\n",
    ")"
   ]
  },
  {
   "cell_type": "code",
   "execution_count": 23,
   "id": "770c3a8c",
   "metadata": {},
   "outputs": [],
   "source": [
    "text_vectorization = TextVectorization(\n",
    "    ngrams=2,\n",
    "    max_tokens=20000,\n",
    "    output_mode=\"tf_idf\",\n",
    ")"
   ]
  },
  {
   "cell_type": "code",
   "execution_count": 24,
   "id": "e405de42",
   "metadata": {},
   "outputs": [
    {
     "name": "stdout",
     "output_type": "stream",
     "text": [
      "Model: \"model_2\"\n",
      "_________________________________________________________________\n",
      " Layer (type)                Output Shape              Param #   \n",
      "=================================================================\n",
      " input_3 (InputLayer)        [(None, 20000)]           0         \n",
      "                                                                 \n",
      " dense_4 (Dense)             (None, 16)                320016    \n",
      "                                                                 \n",
      " dropout_2 (Dropout)         (None, 16)                0         \n",
      "                                                                 \n",
      " dense_5 (Dense)             (None, 1)                 17        \n",
      "                                                                 \n",
      "=================================================================\n",
      "Total params: 320,033\n",
      "Trainable params: 320,033\n",
      "Non-trainable params: 0\n",
      "_________________________________________________________________\n",
      "Epoch 1/10\n",
      "2188/2188 [==============================] - 18s 8ms/step - loss: -7088.0547 - accuracy: 0.1429 - val_loss: 17757.7500 - val_accuracy: 0.5000\n",
      "Epoch 2/10\n",
      "2188/2188 [==============================] - 7s 3ms/step - loss: -47547.9062 - accuracy: 0.1429 - val_loss: 69290.2500 - val_accuracy: 0.5000\n",
      "Epoch 3/10\n",
      "2188/2188 [==============================] - 7s 3ms/step - loss: -128555.8594 - accuracy: 0.1429 - val_loss: 154840.7656 - val_accuracy: 0.5000\n",
      "Epoch 4/10\n",
      "2188/2188 [==============================] - 7s 3ms/step - loss: -249804.4844 - accuracy: 0.1429 - val_loss: 275492.6250 - val_accuracy: 0.5000\n",
      "Epoch 5/10\n",
      "2188/2188 [==============================] - 7s 3ms/step - loss: -414747.2812 - accuracy: 0.1429 - val_loss: 434357.4062 - val_accuracy: 0.5000\n",
      "Epoch 6/10\n",
      "2188/2188 [==============================] - 7s 3ms/step - loss: -620626.9375 - accuracy: 0.1429 - val_loss: 630767.1250 - val_accuracy: 0.5000\n",
      "Epoch 7/10\n",
      "2188/2188 [==============================] - 7s 3ms/step - loss: -876744.5625 - accuracy: 0.1429 - val_loss: 865450.5000 - val_accuracy: 0.5000\n",
      "Epoch 8/10\n",
      "2188/2188 [==============================] - 7s 3ms/step - loss: -1176618.6250 - accuracy: 0.1429 - val_loss: 1138152.0000 - val_accuracy: 0.5000\n",
      "Epoch 9/10\n",
      "2188/2188 [==============================] - 7s 3ms/step - loss: -1524416.2500 - accuracy: 0.1429 - val_loss: 1449331.8750 - val_accuracy: 0.5000\n",
      "Epoch 10/10\n",
      "2188/2188 [==============================] - 7s 3ms/step - loss: -1911825.3750 - accuracy: 0.1429 - val_loss: 1798433.1250 - val_accuracy: 0.5000\n",
      "782/782 [==============================] - 4s 5ms/step - loss: 17376.7559 - accuracy: 0.5000\n",
      "Test acc: 0.500\n"
     ]
    }
   ],
   "source": [
    "text_vectorization.adapt(text_only_train_ds)\n",
    "\n",
    "tfidf_2gram_train_ds = train_ds.map(\n",
    "    lambda x, y: (text_vectorization(x), y),\n",
    "    num_parallel_calls=4)\n",
    "tfidf_2gram_val_ds = val_ds.map(\n",
    "    lambda x, y: (text_vectorization(x), y),\n",
    "    num_parallel_calls=4)\n",
    "tfidf_2gram_test_ds = test_ds.map(\n",
    "    lambda x, y: (text_vectorization(x), y),\n",
    "    num_parallel_calls=4)\n",
    "\n",
    "model = get_model()\n",
    "model.summary()\n",
    "callbacks = [\n",
    "    keras.callbacks.ModelCheckpoint(\"tfidf_2gram.keras\",\n",
    "                                    save_best_only=True)\n",
    "]\n",
    "model.fit(tfidf_2gram_train_ds.cache(),\n",
    "          validation_data=tfidf_2gram_val_ds.cache(),\n",
    "          epochs=10,\n",
    "          callbacks=callbacks)\n",
    "model = keras.models.load_model(\"tfidf_2gram.keras\")\n",
    "print(f\"Test acc: {model.evaluate(tfidf_2gram_test_ds)[1]:.3f}\")"
   ]
  },
  {
   "cell_type": "code",
   "execution_count": 25,
   "id": "81232ac8",
   "metadata": {},
   "outputs": [],
   "source": [
    "inputs = keras.Input(shape=(1,), dtype=\"string\")\n",
    "processed_inputs = text_vectorization(inputs)\n",
    "outputs = model(processed_inputs)\n",
    "inference_model = keras.Model(inputs, outputs)"
   ]
  },
  {
   "cell_type": "code",
   "execution_count": 26,
   "id": "7f403998",
   "metadata": {},
   "outputs": [
    {
     "name": "stdout",
     "output_type": "stream",
     "text": [
      "100.00 percent positive\n"
     ]
    }
   ],
   "source": [
    "import tensorflow as tf\n",
    "raw_text_data = tf.convert_to_tensor([\n",
    "    [\"That was an excellent movie, I loved it.\"],\n",
    "])\n",
    "predictions = inference_model(raw_text_data)\n",
    "print(f\"{float(predictions[0] * 100):.2f} percent positive\")"
   ]
  },
  {
   "cell_type": "code",
   "execution_count": null,
   "id": "1ef3860c",
   "metadata": {},
   "outputs": [],
   "source": []
  }
 ],
 "metadata": {
  "kernelspec": {
   "display_name": "Python 3 (ipykernel)",
   "language": "python",
   "name": "python3"
  },
  "language_info": {
   "codemirror_mode": {
    "name": "ipython",
    "version": 3
   },
   "file_extension": ".py",
   "mimetype": "text/x-python",
   "name": "python",
   "nbconvert_exporter": "python",
   "pygments_lexer": "ipython3",
   "version": "3.9.12"
  }
 },
 "nbformat": 4,
 "nbformat_minor": 5
}
