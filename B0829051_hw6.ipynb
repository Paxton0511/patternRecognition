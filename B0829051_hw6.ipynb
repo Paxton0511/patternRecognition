{
 "cells": [
  {
   "cell_type": "code",
   "execution_count": 1,
   "id": "faad6286",
   "metadata": {},
   "outputs": [],
   "source": [
    "from tensorflow import keras\n",
    "from tensorflow.keras import layers\n",
    "\n",
    "model = keras.Sequential([\n",
    "    layers.Dense(64, activation=\"relu\"),\n",
    "    layers.Dense(10, activation=\"softmax\")\n",
    "])"
   ]
  },
  {
   "cell_type": "code",
   "execution_count": 2,
   "id": "68e243cd",
   "metadata": {},
   "outputs": [],
   "source": [
    "model = keras.Sequential()\n",
    "model.add(layers.Dense(64, activation=\"relu\"))\n",
    "model.add(layers.Dense(10, activation=\"softmax\"))"
   ]
  },
  {
   "cell_type": "code",
   "execution_count": 3,
   "id": "7d305ac3",
   "metadata": {},
   "outputs": [
    {
     "data": {
      "text/plain": [
       "[<tf.Variable 'dense_2/kernel:0' shape=(3, 64) dtype=float32, numpy=\n",
       " array([[ 0.26205152,  0.23342091,  0.0207763 ,  0.00797006, -0.08573   ,\n",
       "          0.17975387,  0.08295053,  0.15132397,  0.29380405, -0.12443534,\n",
       "          0.2803272 ,  0.21853381, -0.20836169,  0.04707995, -0.03585851,\n",
       "         -0.12646896, -0.2678461 ,  0.2681222 , -0.24948612, -0.2214328 ,\n",
       "         -0.22639024,  0.07687929, -0.23856819, -0.19185388,  0.25809497,\n",
       "         -0.2670625 ,  0.04345709, -0.10374758,  0.27555662,  0.2716102 ,\n",
       "         -0.09104674, -0.00166032,  0.03147829, -0.14173609, -0.18812926,\n",
       "          0.02211162,  0.15625829,  0.08575568, -0.26051843, -0.10493109,\n",
       "          0.22981763, -0.26993045,  0.09803766,  0.18299317,  0.14037335,\n",
       "         -0.01058397, -0.02178657, -0.23560506, -0.13038899, -0.27642134,\n",
       "          0.17738369, -0.01041037, -0.12002999,  0.0409278 ,  0.2871399 ,\n",
       "         -0.13713996,  0.15806067,  0.01884907,  0.28739125,  0.29584002,\n",
       "         -0.02783319,  0.28786284, -0.10738979, -0.1651845 ],\n",
       "        [ 0.05878437, -0.2545862 ,  0.0809682 ,  0.14559042, -0.02708483,\n",
       "         -0.12734902,  0.2571491 , -0.18448597,  0.27284044, -0.212913  ,\n",
       "         -0.05720416, -0.08827832, -0.280379  , -0.22687447, -0.20812503,\n",
       "         -0.13538203, -0.28851023,  0.03866082, -0.12876013, -0.10052696,\n",
       "         -0.20856002, -0.27718157,  0.01572961,  0.0439443 , -0.07532583,\n",
       "         -0.17387782, -0.29694992,  0.13593125,  0.26158893, -0.22383422,\n",
       "          0.02157274, -0.29004878, -0.10994118,  0.28127623,  0.28897   ,\n",
       "          0.19943035, -0.0160563 , -0.0868829 , -0.13458844, -0.19586153,\n",
       "         -0.14467554, -0.21950279, -0.11890748,  0.20911598, -0.0794104 ,\n",
       "         -0.21655858,  0.08366084,  0.20240408, -0.21628723, -0.27673057,\n",
       "         -0.09124872, -0.16760725, -0.1906424 , -0.03797024,  0.14404476,\n",
       "          0.22852665, -0.12093617,  0.2325924 , -0.22442341, -0.26486778,\n",
       "         -0.02146867, -0.07705557,  0.24576962, -0.04120836],\n",
       "        [-0.02599722, -0.19080892, -0.27768984, -0.1782119 , -0.1074931 ,\n",
       "         -0.29639322, -0.11738165,  0.18548405,  0.23818362, -0.09645915,\n",
       "         -0.23056264, -0.01571286, -0.17599428, -0.26685908, -0.00800788,\n",
       "         -0.11061142, -0.2817483 ,  0.04821315, -0.1324194 , -0.17454591,\n",
       "         -0.0886173 ,  0.10690826,  0.18102434,  0.08586279,  0.10877195,\n",
       "          0.20416653, -0.16594855, -0.07678661, -0.03477851,  0.29720122,\n",
       "         -0.22499026,  0.13751203,  0.07055098, -0.08887999, -0.12462427,\n",
       "          0.26198542, -0.25302252,  0.2572593 , -0.2620902 ,  0.22153258,\n",
       "          0.05670816, -0.06311165, -0.04760009,  0.08458522, -0.25986403,\n",
       "          0.11890456, -0.12407446,  0.0946722 , -0.26968387,  0.13617277,\n",
       "          0.15829962,  0.1182003 ,  0.18154126,  0.2761423 , -0.29253188,\n",
       "          0.17413697, -0.00421444, -0.22703636, -0.06079036,  0.25528044,\n",
       "         -0.16490845,  0.2532162 ,  0.14071748, -0.11620712]],\n",
       "       dtype=float32)>,\n",
       " <tf.Variable 'dense_2/bias:0' shape=(64,) dtype=float32, numpy=\n",
       " array([0., 0., 0., 0., 0., 0., 0., 0., 0., 0., 0., 0., 0., 0., 0., 0., 0.,\n",
       "        0., 0., 0., 0., 0., 0., 0., 0., 0., 0., 0., 0., 0., 0., 0., 0., 0.,\n",
       "        0., 0., 0., 0., 0., 0., 0., 0., 0., 0., 0., 0., 0., 0., 0., 0., 0.,\n",
       "        0., 0., 0., 0., 0., 0., 0., 0., 0., 0., 0., 0., 0.], dtype=float32)>,\n",
       " <tf.Variable 'dense_3/kernel:0' shape=(64, 10) dtype=float32, numpy=\n",
       " array([[ 0.01363748, -0.19496438,  0.21900323,  0.19825277, -0.26881784,\n",
       "          0.16160342,  0.05965915, -0.12681487, -0.07521376,  0.10580924],\n",
       "        [-0.05143154, -0.01963493,  0.20525697,  0.02129897, -0.27405682,\n",
       "         -0.05851217,  0.10079783, -0.11387387,  0.0402081 ,  0.08382502],\n",
       "        [-0.0504927 , -0.23089683, -0.16191   , -0.19104989,  0.2506356 ,\n",
       "          0.05780095, -0.09983136,  0.28249165, -0.07843509,  0.13145095],\n",
       "        [-0.24367362, -0.21189441, -0.10933338, -0.02092281, -0.02629724,\n",
       "         -0.14860001,  0.19741747,  0.10639113, -0.2649352 , -0.16421348],\n",
       "        [ 0.03218877,  0.0489713 ,  0.18217021, -0.22239311, -0.125319  ,\n",
       "          0.14196432,  0.0704571 ,  0.25455305, -0.12259014, -0.27977425],\n",
       "        [-0.06872213,  0.11437157,  0.16209343,  0.04717878,  0.17489576,\n",
       "         -0.21145082,  0.01041514,  0.12466151, -0.19702405, -0.04273793],\n",
       "        [ 0.15067312, -0.15868235, -0.10508658,  0.00607416,  0.23112938,\n",
       "          0.19275519,  0.03515786, -0.26148263, -0.14283405,  0.2497643 ],\n",
       "        [ 0.08944541,  0.250874  , -0.21882996, -0.17598523,  0.09856629,\n",
       "         -0.09510396,  0.00443763, -0.2020843 ,  0.03936499,  0.19067758],\n",
       "        [ 0.19642147,  0.2199851 ,  0.15133241,  0.23881778,  0.04040793,\n",
       "          0.17787817, -0.1536386 ,  0.0110788 ,  0.2626076 ,  0.26200005],\n",
       "        [ 0.01124984,  0.07381395, -0.17829868, -0.04189754,  0.18141678,\n",
       "          0.28324553, -0.09350592, -0.27982816, -0.2752102 ,  0.14010227],\n",
       "        [ 0.1824066 , -0.01650846,  0.23881432, -0.14190628,  0.11486375,\n",
       "         -0.00650486, -0.17522827,  0.28358892,  0.03664094,  0.20546871],\n",
       "        [-0.28221568, -0.22369665,  0.06703338, -0.19097778,  0.27012423,\n",
       "          0.08270144, -0.0513906 ,  0.15798274, -0.02177262,  0.20002931],\n",
       "        [ 0.19394544,  0.20150733, -0.22694942,  0.07423154,  0.22418222,\n",
       "         -0.18597361, -0.16477185, -0.27115342, -0.1307113 , -0.24152677],\n",
       "        [-0.17194569,  0.13791645,  0.24514613,  0.23117432,  0.03826213,\n",
       "          0.04285443, -0.22993994,  0.00117877,  0.2399784 ,  0.13734034],\n",
       "        [ 0.24754837, -0.03955591,  0.27397272, -0.13908936,  0.2548876 ,\n",
       "          0.1503087 ,  0.05991548,  0.21254969,  0.03458303,  0.16496378],\n",
       "        [-0.1256277 , -0.08628531, -0.12263454,  0.26587114, -0.24085629,\n",
       "          0.27760538,  0.17408517, -0.16341591, -0.03962244,  0.00694695],\n",
       "        [-0.07836483, -0.00523588, -0.13381478, -0.2346363 , -0.22793551,\n",
       "         -0.27311522, -0.1218693 , -0.17714825, -0.01706502,  0.12568703],\n",
       "        [-0.12473632,  0.09641829, -0.19606057, -0.04464026, -0.14779185,\n",
       "         -0.2150444 ,  0.21121553, -0.16511858,  0.20451927,  0.01774701],\n",
       "        [-0.28066632,  0.20247447,  0.03004262,  0.19234377,  0.07649651,\n",
       "          0.26839176,  0.1286022 ,  0.08666271, -0.02442247,  0.20493504],\n",
       "        [-0.27377287, -0.27530932,  0.0857462 , -0.28432125,  0.24434629,\n",
       "          0.22879586,  0.15985602, -0.199265  ,  0.12128001, -0.26432732],\n",
       "        [ 0.17336491,  0.02992517, -0.2680359 , -0.03834565,  0.01162839,\n",
       "          0.274192  , -0.0257315 ,  0.28093794, -0.02139193, -0.23167586],\n",
       "        [-0.14714406, -0.22112793, -0.00814518, -0.19543892,  0.09731334,\n",
       "         -0.18951559,  0.06955072, -0.16403975, -0.09517959,  0.1324037 ],\n",
       "        [ 0.275551  , -0.2697835 ,  0.06122312, -0.2060569 , -0.12531778,\n",
       "          0.17684418,  0.17800465,  0.21767876,  0.02679431,  0.22324046],\n",
       "        [-0.22575423,  0.05112237, -0.26408285,  0.26507458,  0.0874221 ,\n",
       "          0.10997608,  0.17728361,  0.20708439,  0.08296281,  0.0706009 ],\n",
       "        [-0.19062632,  0.03865704, -0.19374332,  0.01184475, -0.13231865,\n",
       "          0.23506787, -0.21957639, -0.06511438,  0.2811068 , -0.22345626],\n",
       "        [ 0.27026454, -0.12337746, -0.22227336, -0.13753761, -0.2413252 ,\n",
       "         -0.22407031,  0.08512047, -0.24359664,  0.04304472, -0.11647075],\n",
       "        [-0.25987324, -0.06763279,  0.24830547, -0.27437577,  0.0817121 ,\n",
       "         -0.07297552, -0.1120721 , -0.14401315, -0.11191818,  0.13794318],\n",
       "        [ 0.1468268 ,  0.22039446, -0.03572024,  0.22825   ,  0.16829708,\n",
       "          0.24418655, -0.24402665, -0.25235847,  0.2191076 ,  0.00204998],\n",
       "        [ 0.20718116, -0.17793494, -0.14518444, -0.13822058, -0.13964415,\n",
       "         -0.05395232, -0.28026345,  0.10021296,  0.01544747,  0.0087803 ],\n",
       "        [-0.01487952,  0.1531699 , -0.13263799,  0.22961333,  0.06201375,\n",
       "         -0.28287086, -0.19643906, -0.21247256, -0.06452252, -0.00132948],\n",
       "        [-0.09111677, -0.2783923 ,  0.11474338, -0.00065711,  0.02970758,\n",
       "         -0.15722626,  0.07470444, -0.20661026, -0.13072251, -0.25505087],\n",
       "        [ 0.19291684, -0.16007896, -0.11788428, -0.24555999, -0.00805795,\n",
       "          0.24242315, -0.27962524, -0.09728423, -0.02145952,  0.1325596 ],\n",
       "        [-0.04095401,  0.2190555 , -0.25708947,  0.25029925, -0.05431275,\n",
       "         -0.15486589, -0.20273122,  0.2076726 , -0.2483845 ,  0.17702413],\n",
       "        [ 0.1904845 ,  0.18713629,  0.20085204,  0.2295042 ,  0.07354742,\n",
       "         -0.18779752,  0.14322034, -0.2647914 , -0.12958115, -0.01802781],\n",
       "        [-0.19993031,  0.13351029, -0.2669836 , -0.07640006,  0.1167174 ,\n",
       "         -0.10211405, -0.22983824, -0.05355552, -0.17169905, -0.1749692 ],\n",
       "        [-0.04712702,  0.2765592 , -0.08767025, -0.17669237, -0.19389036,\n",
       "          0.26881287, -0.02246442,  0.12560469, -0.28087732, -0.03695257],\n",
       "        [-0.15543339,  0.11180609,  0.27532455, -0.0043301 ,  0.15715721,\n",
       "         -0.25406575,  0.00313702, -0.17945735,  0.08769318, -0.17691606],\n",
       "        [ 0.15139037,  0.23634383, -0.01840892,  0.05610535, -0.14889003,\n",
       "          0.02855983, -0.117706  ,  0.18398324,  0.13334247, -0.19299212],\n",
       "        [ 0.25120607, -0.1595004 , -0.1725717 , -0.05032922,  0.08250675,\n",
       "          0.04314342,  0.27088007, -0.08980033,  0.04351982,  0.14274499],\n",
       "        [-0.24118528,  0.01472569, -0.17676793,  0.21720651, -0.01328948,\n",
       "         -0.1061669 ,  0.23279318, -0.0492785 , -0.01298699, -0.12686355],\n",
       "        [ 0.03052169, -0.09799726,  0.13013282,  0.26536646, -0.11528079,\n",
       "         -0.13727556,  0.01156071, -0.06222664, -0.2808456 ,  0.07269222],\n",
       "        [ 0.18967962, -0.16331789, -0.11476178, -0.01355019,  0.20925367,\n",
       "         -0.16295353, -0.08207965, -0.20550042, -0.26237705, -0.18801972],\n",
       "        [ 0.16765347,  0.04664007,  0.14272773, -0.21846199,  0.19728231,\n",
       "          0.01660633,  0.18929103, -0.09371142,  0.19015598,  0.18579325],\n",
       "        [ 0.04324222, -0.12265436,  0.12568343, -0.09567267, -0.05411533,\n",
       "          0.17916828,  0.1393992 , -0.11223367,  0.04674652,  0.09071481],\n",
       "        [-0.16586535, -0.01870915,  0.19506735, -0.22270669, -0.17781097,\n",
       "          0.2137672 ,  0.27198622, -0.14583713,  0.04758894,  0.2706181 ],\n",
       "        [ 0.13273609,  0.12471947, -0.18390198, -0.15987597,  0.15079093,\n",
       "          0.25771978, -0.27862766,  0.23807582,  0.17435482,  0.18606526],\n",
       "        [-0.17879367, -0.00503743, -0.27066815,  0.03884131, -0.03986819,\n",
       "          0.25002083, -0.20055144, -0.21974409, -0.03661644, -0.14049561],\n",
       "        [-0.20115483,  0.11836472, -0.02887654,  0.1010738 , -0.23933463,\n",
       "          0.0059098 , -0.15096323,  0.01444647,  0.27399948,  0.2804424 ],\n",
       "        [ 0.1642876 ,  0.18273285,  0.07582307, -0.06565511,  0.03735942,\n",
       "         -0.17588332,  0.2580084 , -0.27779588,  0.10867193, -0.16202813],\n",
       "        [-0.03040209,  0.24315444, -0.13678867, -0.13693449,  0.13061666,\n",
       "          0.09930941, -0.15650813,  0.23405448, -0.23351899, -0.09846461],\n",
       "        [-0.15310675, -0.19784743,  0.14409775, -0.20842046,  0.10947365,\n",
       "          0.0234687 ,  0.18529668, -0.28191853, -0.24008277,  0.11824802],\n",
       "        [ 0.10925937,  0.01415148, -0.27025795, -0.16291422, -0.20463002,\n",
       "         -0.0565374 , -0.14566855, -0.00799286,  0.00133702, -0.12481752],\n",
       "        [ 0.15838566, -0.1563714 ,  0.24707767, -0.00888586, -0.10674965,\n",
       "          0.19072232, -0.20327386, -0.19651482,  0.2644864 ,  0.22195199],\n",
       "        [-0.14184768,  0.18226668, -0.27530193, -0.24028814,  0.02503979,\n",
       "         -0.23395021,  0.18798089,  0.12881237, -0.19811076,  0.2186645 ],\n",
       "        [ 0.28265795, -0.23724806,  0.02261928,  0.00498143,  0.01768354,\n",
       "         -0.05636707, -0.23352237, -0.17271176,  0.07138813,  0.23272744],\n",
       "        [ 0.03919882,  0.10484523,  0.17477551, -0.12616579,  0.18435827,\n",
       "         -0.09335636, -0.18027365, -0.19370537, -0.16914785, -0.21294819],\n",
       "        [-0.20911014,  0.23723504, -0.02598149, -0.03438956, -0.07369861,\n",
       "          0.04984218,  0.11310917,  0.13059801,  0.09201548,  0.12193272],\n",
       "        [ 0.13356909, -0.08730215,  0.22752222, -0.19692379, -0.11900853,\n",
       "          0.11242342, -0.03407896,  0.00693223,  0.11076489, -0.11186883],\n",
       "        [-0.19609845,  0.17146626, -0.1182709 , -0.10739921, -0.12858732,\n",
       "          0.20446822, -0.17940229, -0.27913737, -0.18844539,  0.19682515],\n",
       "        [-0.15058447,  0.09505746, -0.18153998,  0.08563623, -0.07956517,\n",
       "         -0.2774509 ,  0.23419681, -0.01070583,  0.14571166, -0.08018133],\n",
       "        [-0.08925654, -0.24350506,  0.20034853, -0.10927872, -0.28471276,\n",
       "          0.28168568, -0.03418976, -0.06766693,  0.04654223, -0.043045  ],\n",
       "        [ 0.10887039, -0.1747525 ,  0.23560199, -0.06792559,  0.00987419,\n",
       "         -0.11397754, -0.16239032,  0.2633526 , -0.03188422,  0.17348894],\n",
       "        [ 0.20783049,  0.07953686, -0.15062976,  0.23927996, -0.17048419,\n",
       "         -0.03328833,  0.17906502, -0.08274652,  0.2712809 , -0.08796068],\n",
       "        [-0.04686491,  0.18189526,  0.08546561, -0.28200242, -0.1852523 ,\n",
       "         -0.17047128, -0.21318004, -0.01187089,  0.24929634, -0.18227121]],\n",
       "       dtype=float32)>,\n",
       " <tf.Variable 'dense_3/bias:0' shape=(10,) dtype=float32, numpy=array([0., 0., 0., 0., 0., 0., 0., 0., 0., 0.], dtype=float32)>]"
      ]
     },
     "execution_count": 3,
     "metadata": {},
     "output_type": "execute_result"
    }
   ],
   "source": [
    "model.build(input_shape=(None, 3))\n",
    "model.weights"
   ]
  },
  {
   "cell_type": "code",
   "execution_count": 4,
   "id": "91a818e9",
   "metadata": {},
   "outputs": [
    {
     "name": "stdout",
     "output_type": "stream",
     "text": [
      "Model: \"sequential_1\"\n",
      "_________________________________________________________________\n",
      " Layer (type)                Output Shape              Param #   \n",
      "=================================================================\n",
      " dense_2 (Dense)             (None, 64)                256       \n",
      "                                                                 \n",
      " dense_3 (Dense)             (None, 10)                650       \n",
      "                                                                 \n",
      "=================================================================\n",
      "Total params: 906\n",
      "Trainable params: 906\n",
      "Non-trainable params: 0\n",
      "_________________________________________________________________\n"
     ]
    }
   ],
   "source": [
    "model.summary()"
   ]
  },
  {
   "cell_type": "code",
   "execution_count": 5,
   "id": "911c0466",
   "metadata": {},
   "outputs": [
    {
     "name": "stdout",
     "output_type": "stream",
     "text": [
      "Model: \"my_example_model\"\n",
      "_________________________________________________________________\n",
      " Layer (type)                Output Shape              Param #   \n",
      "=================================================================\n",
      " my_first_layer (Dense)      (None, 64)                256       \n",
      "                                                                 \n",
      " my_last_layer (Dense)       (None, 10)                650       \n",
      "                                                                 \n",
      "=================================================================\n",
      "Total params: 906\n",
      "Trainable params: 906\n",
      "Non-trainable params: 0\n",
      "_________________________________________________________________\n"
     ]
    }
   ],
   "source": [
    "model = keras.Sequential(name=\"my_example_model\")\n",
    "model.add(layers.Dense(64, activation=\"relu\", name=\"my_first_layer\"))\n",
    "model.add(layers.Dense(10, activation=\"softmax\", name=\"my_last_layer\"))\n",
    "model.build((None, 3))\n",
    "model.summary()"
   ]
  },
  {
   "cell_type": "code",
   "execution_count": 6,
   "id": "8e778b51",
   "metadata": {},
   "outputs": [],
   "source": [
    "model = keras.Sequential()\n",
    "model.add(keras.Input(shape=(3,)))\n",
    "model.add(layers.Dense(64, activation=\"relu\"))"
   ]
  },
  {
   "cell_type": "code",
   "execution_count": 7,
   "id": "840574a5",
   "metadata": {},
   "outputs": [
    {
     "name": "stdout",
     "output_type": "stream",
     "text": [
      "Model: \"sequential_2\"\n",
      "_________________________________________________________________\n",
      " Layer (type)                Output Shape              Param #   \n",
      "=================================================================\n",
      " dense_4 (Dense)             (None, 64)                256       \n",
      "                                                                 \n",
      "=================================================================\n",
      "Total params: 256\n",
      "Trainable params: 256\n",
      "Non-trainable params: 0\n",
      "_________________________________________________________________\n"
     ]
    }
   ],
   "source": [
    "model.summary()"
   ]
  },
  {
   "cell_type": "code",
   "execution_count": 8,
   "id": "2166f7b0",
   "metadata": {},
   "outputs": [
    {
     "name": "stdout",
     "output_type": "stream",
     "text": [
      "Model: \"sequential_2\"\n",
      "_________________________________________________________________\n",
      " Layer (type)                Output Shape              Param #   \n",
      "=================================================================\n",
      " dense_4 (Dense)             (None, 64)                256       \n",
      "                                                                 \n",
      " dense_5 (Dense)             (None, 10)                650       \n",
      "                                                                 \n",
      "=================================================================\n",
      "Total params: 906\n",
      "Trainable params: 906\n",
      "Non-trainable params: 0\n",
      "_________________________________________________________________\n"
     ]
    }
   ],
   "source": [
    "model.add(layers.Dense(10, activation=\"softmax\"))\n",
    "model.summary()"
   ]
  },
  {
   "cell_type": "code",
   "execution_count": 9,
   "id": "de5e5570",
   "metadata": {},
   "outputs": [],
   "source": [
    "inputs = keras.Input(shape=(3,), name=\"my_input\")\n",
    "features = layers.Dense(64, activation=\"relu\")(inputs)\n",
    "outputs = layers.Dense(10, activation=\"softmax\")(features)\n",
    "model = keras.Model(inputs=inputs, outputs=outputs)"
   ]
  },
  {
   "cell_type": "code",
   "execution_count": 10,
   "id": "8d904e56",
   "metadata": {},
   "outputs": [],
   "source": [
    "inputs = keras.Input(shape=(3,), name=\"my_input\")"
   ]
  },
  {
   "cell_type": "code",
   "execution_count": 11,
   "id": "0817695c",
   "metadata": {},
   "outputs": [
    {
     "data": {
      "text/plain": [
       "TensorShape([None, 3])"
      ]
     },
     "execution_count": 11,
     "metadata": {},
     "output_type": "execute_result"
    }
   ],
   "source": [
    "inputs.shape"
   ]
  },
  {
   "cell_type": "code",
   "execution_count": 12,
   "id": "9d40006a",
   "metadata": {},
   "outputs": [
    {
     "data": {
      "text/plain": [
       "tf.float32"
      ]
     },
     "execution_count": 12,
     "metadata": {},
     "output_type": "execute_result"
    }
   ],
   "source": [
    "inputs.dtype"
   ]
  },
  {
   "cell_type": "code",
   "execution_count": 13,
   "id": "d3e57dff",
   "metadata": {},
   "outputs": [],
   "source": [
    "features = layers.Dense(64, activation=\"relu\")(inputs)"
   ]
  },
  {
   "cell_type": "code",
   "execution_count": 14,
   "id": "489c5b43",
   "metadata": {},
   "outputs": [
    {
     "data": {
      "text/plain": [
       "TensorShape([None, 64])"
      ]
     },
     "execution_count": 14,
     "metadata": {},
     "output_type": "execute_result"
    }
   ],
   "source": [
    "features.shape"
   ]
  },
  {
   "cell_type": "code",
   "execution_count": 15,
   "id": "31abbf6f",
   "metadata": {},
   "outputs": [],
   "source": [
    "outputs = layers.Dense(10, activation=\"softmax\")(features)\n",
    "model = keras.Model(inputs=inputs, outputs=outputs)"
   ]
  },
  {
   "cell_type": "code",
   "execution_count": 16,
   "id": "d7f88bcd",
   "metadata": {},
   "outputs": [
    {
     "name": "stdout",
     "output_type": "stream",
     "text": [
      "Model: \"model_1\"\n",
      "_________________________________________________________________\n",
      " Layer (type)                Output Shape              Param #   \n",
      "=================================================================\n",
      " my_input (InputLayer)       [(None, 3)]               0         \n",
      "                                                                 \n",
      " dense_8 (Dense)             (None, 64)                256       \n",
      "                                                                 \n",
      " dense_9 (Dense)             (None, 10)                650       \n",
      "                                                                 \n",
      "=================================================================\n",
      "Total params: 906\n",
      "Trainable params: 906\n",
      "Non-trainable params: 0\n",
      "_________________________________________________________________\n"
     ]
    }
   ],
   "source": [
    "model.summary()"
   ]
  },
  {
   "cell_type": "code",
   "execution_count": 17,
   "id": "a993eb01",
   "metadata": {},
   "outputs": [],
   "source": [
    "vocabulary_size = 10000\n",
    "num_tags = 100\n",
    "num_departments = 4\n",
    "\n",
    "title = keras.Input(shape=(vocabulary_size,), name=\"title\")\n",
    "text_body = keras.Input(shape=(vocabulary_size,), name=\"text_body\")\n",
    "tags = keras.Input(shape=(num_tags,), name=\"tags\")\n",
    "\n",
    "features = layers.Concatenate()([title, text_body, tags])\n",
    "features = layers.Dense(64, activation=\"relu\")(features)\n",
    "\n",
    "priority = layers.Dense(1, activation=\"sigmoid\", name=\"priority\")(features)\n",
    "department = layers.Dense(\n",
    "    num_departments, activation=\"softmax\", name=\"department\")(features)\n",
    "\n",
    "model = keras.Model(inputs=[title, text_body, tags], outputs=[priority, department])"
   ]
  },
  {
   "cell_type": "code",
   "execution_count": 18,
   "id": "cc530fb5",
   "metadata": {},
   "outputs": [
    {
     "name": "stdout",
     "output_type": "stream",
     "text": [
      "40/40 [==============================] - 2s 11ms/step - loss: 38.1139 - priority_loss: 0.3357 - department_loss: 37.7782 - priority_mean_absolute_error: 0.5023 - department_accuracy: 0.2258\n",
      "40/40 [==============================] - 0s 3ms/step - loss: 24.0201 - priority_loss: 0.3441 - department_loss: 23.6760 - priority_mean_absolute_error: 0.5106 - department_accuracy: 0.5727\n",
      "40/40 [==============================] - 0s 3ms/step\n"
     ]
    }
   ],
   "source": [
    "import numpy as np\n",
    "\n",
    "num_samples = 1280\n",
    "\n",
    "title_data = np.random.randint(0, 2, size=(num_samples, vocabulary_size))\n",
    "text_body_data = np.random.randint(0, 2, size=(num_samples, vocabulary_size))\n",
    "tags_data = np.random.randint(0, 2, size=(num_samples, num_tags))\n",
    "\n",
    "priority_data = np.random.random(size=(num_samples, 1))\n",
    "department_data = np.random.randint(0, 2, size=(num_samples, num_departments))\n",
    "\n",
    "model.compile(optimizer=\"rmsprop\",\n",
    "              loss=[\"mean_squared_error\", \"categorical_crossentropy\"],\n",
    "              metrics=[[\"mean_absolute_error\"], [\"accuracy\"]])\n",
    "model.fit([title_data, text_body_data, tags_data],\n",
    "          [priority_data, department_data],\n",
    "          epochs=1)\n",
    "model.evaluate([title_data, text_body_data, tags_data],\n",
    "               [priority_data, department_data])\n",
    "priority_preds, department_preds = model.predict([title_data, text_body_data, tags_data])"
   ]
  },
  {
   "cell_type": "code",
   "execution_count": 19,
   "id": "ad677569",
   "metadata": {},
   "outputs": [
    {
     "name": "stdout",
     "output_type": "stream",
     "text": [
      "40/40 [==============================] - 1s 11ms/step - loss: 43.5948 - priority_loss: 0.3441 - department_loss: 43.2506 - priority_mean_absolute_error: 0.5106 - department_accuracy: 0.2391\n",
      "40/40 [==============================] - 0s 3ms/step - loss: 43.3262 - priority_loss: 0.3441 - department_loss: 42.9820 - priority_mean_absolute_error: 0.5106 - department_accuracy: 0.0570\n",
      "40/40 [==============================] - 0s 3ms/step\n"
     ]
    }
   ],
   "source": [
    "model.compile(optimizer=\"rmsprop\",\n",
    "              loss={\"priority\": \"mean_squared_error\", \"department\": \"categorical_crossentropy\"},\n",
    "              metrics={\"priority\": [\"mean_absolute_error\"], \"department\": [\"accuracy\"]})\n",
    "model.fit({\"title\": title_data, \"text_body\": text_body_data, \"tags\": tags_data},\n",
    "          {\"priority\": priority_data, \"department\": department_data},\n",
    "          epochs=1)\n",
    "model.evaluate({\"title\": title_data, \"text_body\": text_body_data, \"tags\": tags_data},\n",
    "               {\"priority\": priority_data, \"department\": department_data})\n",
    "priority_preds, department_preds = model.predict(\n",
    "    {\"title\": title_data, \"text_body\": text_body_data, \"tags\": tags_data})"
   ]
  },
  {
   "cell_type": "code",
   "execution_count": 20,
   "id": "3693b491",
   "metadata": {},
   "outputs": [
    {
     "data": {
      "image/png": "[encoded data removed]",
      "text/plain": [
       "<IPython.core.display.Image object>"
      ]
     },
     "execution_count": 20,
     "metadata": {},
     "output_type": "execute_result"
    }
   ],
   "source": [
    "keras.utils.plot_model(model, \"ticket_classifier.png\")"
   ]
  },
  {
   "cell_type": "code",
   "execution_count": 21,
   "id": "0d17fbc2",
   "metadata": {},
   "outputs": [
    {
     "data": {
      "image/png": "[encoded data removed]",
      "text/plain": [
       "<IPython.core.display.Image object>"
      ]
     },
     "execution_count": 21,
     "metadata": {},
     "output_type": "execute_result"
    }
   ],
   "source": [
    "\n",
    "keras.utils.plot_model(model, \"ticket_classifier_with_shape_info.png\", show_shapes=True)"
   ]
  },
  {
   "cell_type": "code",
   "execution_count": 22,
   "id": "e3927718",
   "metadata": {},
   "outputs": [
    {
     "data": {
      "text/plain": [
       "[<keras.engine.input_layer.InputLayer at 0x262a9033070>,\n",
       " <keras.engine.input_layer.InputLayer at 0x262a90330d0>,\n",
       " <keras.engine.input_layer.InputLayer at 0x262a9031070>,\n",
       " <keras.layers.merging.concatenate.Concatenate at 0x262a9031eb0>,\n",
       " <keras.layers.core.dense.Dense at 0x262a9031640>,\n",
       " <keras.layers.core.dense.Dense at 0x262a9031310>,\n",
       " <keras.layers.core.dense.Dense at 0x262a903dfd0>]"
      ]
     },
     "execution_count": 22,
     "metadata": {},
     "output_type": "execute_result"
    }
   ],
   "source": [
    "model.layers"
   ]
  },
  {
   "cell_type": "code",
   "execution_count": 23,
   "id": "5090fe33",
   "metadata": {},
   "outputs": [
    {
     "data": {
      "text/plain": [
       "[<KerasTensor: shape=(None, 10000) dtype=float32 (created by layer 'title')>,\n",
       " <KerasTensor: shape=(None, 10000) dtype=float32 (created by layer 'text_body')>,\n",
       " <KerasTensor: shape=(None, 100) dtype=float32 (created by layer 'tags')>]"
      ]
     },
     "execution_count": 23,
     "metadata": {},
     "output_type": "execute_result"
    }
   ],
   "source": [
    "model.layers[3].input"
   ]
  },
  {
   "cell_type": "code",
   "execution_count": 24,
   "id": "af90b3fb",
   "metadata": {},
   "outputs": [
    {
     "data": {
      "text/plain": [
       "<KerasTensor: shape=(None, 20100) dtype=float32 (created by layer 'concatenate')>"
      ]
     },
     "execution_count": 24,
     "metadata": {},
     "output_type": "execute_result"
    }
   ],
   "source": [
    "model.layers[3].output"
   ]
  },
  {
   "cell_type": "code",
   "execution_count": 25,
   "id": "34d59df5",
   "metadata": {},
   "outputs": [],
   "source": [
    "features = model.layers[4].output\n",
    "difficulty = layers.Dense(3, activation=\"softmax\", name=\"difficulty\")(features)\n",
    "\n",
    "new_model = keras.Model(\n",
    "    inputs=[title, text_body, tags],\n",
    "    outputs=[priority, department, difficulty])"
   ]
  },
  {
   "cell_type": "code",
   "execution_count": 26,
   "id": "450d5012",
   "metadata": {},
   "outputs": [
    {
     "data": {
      "image/png": "[encoded data removed]",
      "text/plain": [
       "<IPython.core.display.Image object>"
      ]
     },
     "execution_count": 26,
     "metadata": {},
     "output_type": "execute_result"
    }
   ],
   "source": [
    "keras.utils.plot_model(new_model, \"updated_ticket_classifier.png\", show_shapes=True)"
   ]
  },
  {
   "cell_type": "code",
   "execution_count": 27,
   "id": "94f1d6ea",
   "metadata": {},
   "outputs": [],
   "source": [
    "class CustomerTicketModel(keras.Model):\n",
    "\n",
    "    def __init__(self, num_departments):\n",
    "        super().__init__()\n",
    "        self.concat_layer = layers.Concatenate()\n",
    "        self.mixing_layer = layers.Dense(64, activation=\"relu\")\n",
    "        self.priority_scorer = layers.Dense(1, activation=\"sigmoid\")\n",
    "        self.department_classifier = layers.Dense(\n",
    "            num_departments, activation=\"softmax\")\n",
    "\n",
    "    def call(self, inputs):\n",
    "        title = inputs[\"title\"]\n",
    "        text_body = inputs[\"text_body\"]\n",
    "        tags = inputs[\"tags\"]\n",
    "\n",
    "        features = self.concat_layer([title, text_body, tags])\n",
    "        features = self.mixing_layer(features)\n",
    "        priority = self.priority_scorer(features)\n",
    "        department = self.department_classifier(features)\n",
    "        return priority, department"
   ]
  },
  {
   "cell_type": "code",
   "execution_count": 28,
   "id": "b238eb28",
   "metadata": {},
   "outputs": [],
   "source": [
    "model = CustomerTicketModel(num_departments=4)\n",
    "\n",
    "priority, department = model(\n",
    "    {\"title\": title_data, \"text_body\": text_body_data, \"tags\": tags_data})"
   ]
  },
  {
   "cell_type": "code",
   "execution_count": 29,
   "id": "f9e2eb98",
   "metadata": {},
   "outputs": [
    {
     "name": "stdout",
     "output_type": "stream",
     "text": [
      "40/40 [==============================] - 1s 10ms/step - loss: 28.4027 - output_1_loss: 0.3401 - output_2_loss: 28.0626 - output_1_mean_absolute_error: 0.5052 - output_2_accuracy: 0.2617\n",
      "40/40 [==============================] - 0s 3ms/step - loss: 34.6656 - output_1_loss: 0.3441 - output_2_loss: 34.3215 - output_1_mean_absolute_error: 0.5106 - output_2_accuracy: 0.5695\n",
      "40/40 [==============================] - 0s 3ms/step\n"
     ]
    }
   ],
   "source": [
    "model.compile(optimizer=\"rmsprop\",\n",
    "              loss=[\"mean_squared_error\", \"categorical_crossentropy\"],\n",
    "              metrics=[[\"mean_absolute_error\"], [\"accuracy\"]])\n",
    "model.fit({\"title\": title_data,\n",
    "           \"text_body\": text_body_data,\n",
    "           \"tags\": tags_data},\n",
    "          [priority_data, department_data],\n",
    "          epochs=1)\n",
    "model.evaluate({\"title\": title_data,\n",
    "                \"text_body\": text_body_data,\n",
    "                \"tags\": tags_data},\n",
    "               [priority_data, department_data])\n",
    "priority_preds, department_preds = model.predict({\"title\": title_data,\n",
    "                                                  \"text_body\": text_body_data,\n",
    "                                                  \"tags\": tags_data})"
   ]
  },
  {
   "cell_type": "code",
   "execution_count": 30,
   "id": "7baced27",
   "metadata": {},
   "outputs": [],
   "source": [
    "class Classifier(keras.Model):\n",
    "\n",
    "    def __init__(self, num_classes=2):\n",
    "        super().__init__()\n",
    "        if num_classes == 2:\n",
    "            num_units = 1\n",
    "            activation = \"sigmoid\"\n",
    "        else:\n",
    "            num_units = num_classes\n",
    "            activation = \"softmax\"\n",
    "        self.dense = layers.Dense(num_units, activation=activation)\n",
    "\n",
    "    def call(self, inputs):\n",
    "        return self.dense(inputs)\n",
    "\n",
    "inputs = keras.Input(shape=(3,))\n",
    "features = layers.Dense(64, activation=\"relu\")(inputs)\n",
    "outputs = Classifier(num_classes=10)(features)\n",
    "model = keras.Model(inputs=inputs, outputs=outputs)"
   ]
  },
  {
   "cell_type": "code",
   "execution_count": 31,
   "id": "f1d5e6a3",
   "metadata": {},
   "outputs": [],
   "source": [
    "inputs = keras.Input(shape=(64,))\n",
    "outputs = layers.Dense(1, activation=\"sigmoid\")(inputs)\n",
    "binary_classifier = keras.Model(inputs=inputs, outputs=outputs)\n",
    "\n",
    "class MyModel(keras.Model):\n",
    "\n",
    "    def __init__(self, num_classes=2):\n",
    "        super().__init__()\n",
    "        self.dense = layers.Dense(64, activation=\"relu\")\n",
    "        self.classifier = binary_classifier\n",
    "\n",
    "    def call(self, inputs):\n",
    "        features = self.dense(inputs)\n",
    "        return self.classifier(features)\n",
    "\n",
    "model = MyModel()"
   ]
  },
  {
   "cell_type": "code",
   "execution_count": 32,
   "id": "2fa78b7f",
   "metadata": {},
   "outputs": [
    {
     "name": "stdout",
     "output_type": "stream",
     "text": [
      "Epoch 1/3\n",
      "1563/1563 [==============================] - 6s 4ms/step - loss: 0.2965 - accuracy: 0.9126 - val_loss: 0.1492 - val_accuracy: 0.9579\n",
      "Epoch 2/3\n",
      "1563/1563 [==============================] - 6s 4ms/step - loss: 0.1655 - accuracy: 0.9537 - val_loss: 0.1210 - val_accuracy: 0.9651\n",
      "Epoch 3/3\n",
      "1563/1563 [==============================] - 6s 4ms/step - loss: 0.1355 - accuracy: 0.9629 - val_loss: 0.1150 - val_accuracy: 0.9701\n",
      "313/313 [==============================] - 0s 947us/step - loss: 0.1087 - accuracy: 0.9720\n",
      "313/313 [==============================] - 0s 800us/step\n"
     ]
    }
   ],
   "source": [
    "from tensorflow.keras.datasets import mnist\n",
    "\n",
    "def get_mnist_model():\n",
    "    inputs = keras.Input(shape=(28 * 28,))\n",
    "    features = layers.Dense(512, activation=\"relu\")(inputs)\n",
    "    features = layers.Dropout(0.5)(features)\n",
    "    outputs = layers.Dense(10, activation=\"softmax\")(features)\n",
    "    model = keras.Model(inputs, outputs)\n",
    "    return model\n",
    "\n",
    "(images, labels), (test_images, test_labels) = mnist.load_data()\n",
    "images = images.reshape((60000, 28 * 28)).astype(\"float32\") / 255\n",
    "test_images = test_images.reshape((10000, 28 * 28)).astype(\"float32\") / 255\n",
    "train_images, val_images = images[10000:], images[:10000]\n",
    "train_labels, val_labels = labels[10000:], labels[:10000]\n",
    "\n",
    "model = get_mnist_model()\n",
    "model.compile(optimizer=\"rmsprop\",\n",
    "              loss=\"sparse_categorical_crossentropy\",\n",
    "              metrics=[\"accuracy\"])\n",
    "model.fit(train_images, train_labels,\n",
    "          epochs=3,\n",
    "          validation_data=(val_images, val_labels))\n",
    "test_metrics = model.evaluate(test_images, test_labels)\n",
    "predictions = model.predict(test_images)"
   ]
  },
  {
   "cell_type": "code",
   "execution_count": 33,
   "id": "e1dcdc7e",
   "metadata": {},
   "outputs": [],
   "source": [
    "import tensorflow as tf\n",
    "\n",
    "class RootMeanSquaredError(keras.metrics.Metric):\n",
    "\n",
    "    def __init__(self, name=\"rmse\", **kwargs):\n",
    "        super().__init__(name=name, **kwargs)\n",
    "        self.mse_sum = self.add_weight(name=\"mse_sum\", initializer=\"zeros\")\n",
    "        self.total_samples = self.add_weight(\n",
    "            name=\"total_samples\", initializer=\"zeros\", dtype=\"int32\")\n",
    "\n",
    "    def update_state(self, y_true, y_pred, sample_weight=None):\n",
    "        y_true = tf.one_hot(y_true, depth=tf.shape(y_pred)[1])\n",
    "        mse = tf.reduce_sum(tf.square(y_true - y_pred))\n",
    "        self.mse_sum.assign_add(mse)\n",
    "        num_samples = tf.shape(y_pred)[0]\n",
    "        self.total_samples.assign_add(num_samples)\n",
    "\n",
    "    def result(self):\n",
    "        return tf.sqrt(self.mse_sum / tf.cast(self.total_samples, tf.float32))\n",
    "\n",
    "    def reset_state(self):\n",
    "        self.mse_sum.assign(0.)\n",
    "        self.total_samples.assign(0)"
   ]
  },
  {
   "cell_type": "code",
   "execution_count": 34,
   "id": "5dc04575",
   "metadata": {},
   "outputs": [
    {
     "name": "stdout",
     "output_type": "stream",
     "text": [
      "Epoch 1/3\n",
      "1563/1563 [==============================] - 7s 4ms/step - loss: 0.2910 - accuracy: 0.9145 - rmse: 7.1863 - val_loss: 0.1428 - val_accuracy: 0.9600 - val_rmse: 7.3618\n",
      "Epoch 2/3\n",
      "1563/1563 [==============================] - 6s 4ms/step - loss: 0.1630 - accuracy: 0.9542 - rmse: 7.3551 - val_loss: 0.1268 - val_accuracy: 0.9677 - val_rmse: 7.4063\n",
      "Epoch 3/3\n",
      "1563/1563 [==============================] - 6s 4ms/step - loss: 0.1393 - accuracy: 0.9629 - rmse: 7.3880 - val_loss: 0.1145 - val_accuracy: 0.9709 - val_rmse: 7.4224\n",
      "313/313 [==============================] - 0s 1ms/step - loss: 0.1067 - accuracy: 0.9738 - rmse: 7.4351\n"
     ]
    }
   ],
   "source": [
    "model = get_mnist_model()\n",
    "model.compile(optimizer=\"rmsprop\",\n",
    "              loss=\"sparse_categorical_crossentropy\",\n",
    "              metrics=[\"accuracy\", RootMeanSquaredError()])\n",
    "model.fit(train_images, train_labels,\n",
    "          epochs=3,\n",
    "          validation_data=(val_images, val_labels))\n",
    "test_metrics = model.evaluate(test_images, test_labels)"
   ]
  },
  {
   "cell_type": "code",
   "execution_count": 35,
   "id": "79e800a6",
   "metadata": {},
   "outputs": [
    {
     "name": "stdout",
     "output_type": "stream",
     "text": [
      "Epoch 1/10\n",
      "1563/1563 [==============================] - 7s 4ms/step - loss: 0.3003 - accuracy: 0.9106 - val_loss: 0.1476 - val_accuracy: 0.9586\n",
      "Epoch 2/10\n",
      "1563/1563 [==============================] - 6s 4ms/step - loss: 0.1672 - accuracy: 0.9528 - val_loss: 0.1235 - val_accuracy: 0.9666\n",
      "Epoch 3/10\n",
      "1563/1563 [==============================] - 6s 4ms/step - loss: 0.1410 - accuracy: 0.9614 - val_loss: 0.1137 - val_accuracy: 0.9715\n",
      "Epoch 4/10\n",
      "1563/1563 [==============================] - 6s 4ms/step - loss: 0.1278 - accuracy: 0.9669 - val_loss: 0.1123 - val_accuracy: 0.9723\n",
      "Epoch 5/10\n",
      "1563/1563 [==============================] - 6s 4ms/step - loss: 0.1204 - accuracy: 0.9703 - val_loss: 0.1081 - val_accuracy: 0.9743\n",
      "Epoch 6/10\n",
      "1563/1563 [==============================] - 6s 4ms/step - loss: 0.1148 - accuracy: 0.9723 - val_loss: 0.1171 - val_accuracy: 0.9737\n",
      "Epoch 7/10\n",
      "1563/1563 [==============================] - 6s 4ms/step - loss: 0.1041 - accuracy: 0.9744 - val_loss: 0.1115 - val_accuracy: 0.9759\n",
      "Epoch 8/10\n",
      "1563/1563 [==============================] - 6s 4ms/step - loss: 0.1032 - accuracy: 0.9756 - val_loss: 0.1208 - val_accuracy: 0.9761\n",
      "Epoch 9/10\n",
      "1563/1563 [==============================] - 6s 4ms/step - loss: 0.0989 - accuracy: 0.9768 - val_loss: 0.1129 - val_accuracy: 0.9786\n",
      "Epoch 10/10\n",
      "1563/1563 [==============================] - 6s 4ms/step - loss: 0.0948 - accuracy: 0.9787 - val_loss: 0.1147 - val_accuracy: 0.9803\n"
     ]
    },
    {
     "data": {
      "text/plain": [
       "<keras.callbacks.History at 0x262b1f72e50>"
      ]
     },
     "execution_count": 35,
     "metadata": {},
     "output_type": "execute_result"
    }
   ],
   "source": [
    "callbacks_list = [\n",
    "    keras.callbacks.EarlyStopping(\n",
    "        monitor=\"val_accuracy\",\n",
    "        patience=2,\n",
    "    ),\n",
    "    keras.callbacks.ModelCheckpoint(\n",
    "        filepath=\"checkpoint_path.keras\",\n",
    "        monitor=\"val_loss\",\n",
    "        save_best_only=True,\n",
    "    )\n",
    "]\n",
    "model = get_mnist_model()\n",
    "model.compile(optimizer=\"rmsprop\",\n",
    "              loss=\"sparse_categorical_crossentropy\",\n",
    "              metrics=[\"accuracy\"])\n",
    "model.fit(train_images, train_labels,\n",
    "          epochs=10,\n",
    "          callbacks=callbacks_list,\n",
    "          validation_data=(val_images, val_labels))"
   ]
  },
  {
   "cell_type": "code",
   "execution_count": 36,
   "id": "9494cb22",
   "metadata": {},
   "outputs": [],
   "source": [
    "model = keras.models.load_model(\"checkpoint_path.keras\")"
   ]
  },
  {
   "cell_type": "code",
   "execution_count": 37,
   "id": "054e8e6b",
   "metadata": {},
   "outputs": [],
   "source": [
    "from matplotlib import pyplot as plt\n",
    "\n",
    "class LossHistory(keras.callbacks.Callback):\n",
    "    def on_train_begin(self, logs):\n",
    "        self.per_batch_losses = []\n",
    "\n",
    "    def on_batch_end(self, batch, logs):\n",
    "        self.per_batch_losses.append(logs.get(\"loss\"))\n",
    "\n",
    "    def on_epoch_end(self, epoch, logs):\n",
    "        plt.clf()\n",
    "        plt.plot(range(len(self.per_batch_losses)), self.per_batch_losses,\n",
    "                 label=\"Training loss for each batch\")\n",
    "        plt.xlabel(f\"Batch (epoch {epoch})\")\n",
    "        plt.ylabel(\"Loss\")\n",
    "        plt.legend()\n",
    "        plt.savefig(f\"plot_at_epoch_{epoch}\")\n",
    "        self.per_batch_losses = []"
   ]
  },
  {
   "cell_type": "code",
   "execution_count": 38,
   "id": "1e8cb781",
   "metadata": {},
   "outputs": [
    {
     "name": "stdout",
     "output_type": "stream",
     "text": [
      "Epoch 1/10\n",
      "1563/1563 [==============================] - 7s 4ms/step - loss: 0.2918 - accuracy: 0.9135 - val_loss: 0.1447 - val_accuracy: 0.9597\n",
      "Epoch 2/10\n",
      "1563/1563 [==============================] - 6s 4ms/step - loss: 0.1658 - accuracy: 0.9524 - val_loss: 0.1259 - val_accuracy: 0.9669\n",
      "Epoch 3/10\n",
      "1563/1563 [==============================] - 6s 4ms/step - loss: 0.1387 - accuracy: 0.9627 - val_loss: 0.1135 - val_accuracy: 0.9713\n",
      "Epoch 4/10\n",
      "1563/1563 [==============================] - 6s 4ms/step - loss: 0.1240 - accuracy: 0.9680 - val_loss: 0.1142 - val_accuracy: 0.9736\n",
      "Epoch 5/10\n",
      "1563/1563 [==============================] - 6s 4ms/step - loss: 0.1184 - accuracy: 0.9700 - val_loss: 0.1145 - val_accuracy: 0.9747\n",
      "Epoch 6/10\n",
      "1563/1563 [==============================] - 6s 4ms/step - loss: 0.1112 - accuracy: 0.9720 - val_loss: 0.1134 - val_accuracy: 0.9764\n",
      "Epoch 7/10\n",
      "1563/1563 [==============================] - 6s 4ms/step - loss: 0.1083 - accuracy: 0.9746 - val_loss: 0.1056 - val_accuracy: 0.9775\n",
      "Epoch 8/10\n",
      "1563/1563 [==============================] - 6s 4ms/step - loss: 0.1029 - accuracy: 0.9761 - val_loss: 0.1098 - val_accuracy: 0.9773\n",
      "Epoch 9/10\n",
      "1563/1563 [==============================] - 6s 4ms/step - loss: 0.0967 - accuracy: 0.9778 - val_loss: 0.1194 - val_accuracy: 0.9781\n",
      "Epoch 10/10\n",
      "1563/1563 [==============================] - 6s 4ms/step - loss: 0.0985 - accuracy: 0.9785 - val_loss: 0.1222 - val_accuracy: 0.9783\n"
     ]
    },
    {
     "data": {
      "text/plain": [
       "<keras.callbacks.History at 0x262b1eb3070>"
      ]
     },
     "execution_count": 38,
     "metadata": {},
     "output_type": "execute_result"
    },
    {
     "data": {
      "image/png": "[encoded data removed]",
      "text/plain": [
       "<Figure size 432x288 with 1 Axes>"
      ]
     },
     "metadata": {
      "needs_background": "light"
     },
     "output_type": "display_data"
    }
   ],
   "source": [
    "model = get_mnist_model()\n",
    "model.compile(optimizer=\"rmsprop\",\n",
    "              loss=\"sparse_categorical_crossentropy\",\n",
    "              metrics=[\"accuracy\"])\n",
    "model.fit(train_images, train_labels,\n",
    "          epochs=10,\n",
    "          callbacks=[LossHistory()],\n",
    "          validation_data=(val_images, val_labels))"
   ]
  },
  {
   "cell_type": "code",
   "execution_count": 39,
   "id": "011a6187",
   "metadata": {},
   "outputs": [
    {
     "name": "stdout",
     "output_type": "stream",
     "text": [
      "Epoch 1/10\n",
      "1563/1563 [==============================] - 6s 4ms/step - loss: 0.2960 - accuracy: 0.9120 - val_loss: 0.1617 - val_accuracy: 0.9529\n",
      "Epoch 2/10\n",
      "1563/1563 [==============================] - 6s 4ms/step - loss: 0.1634 - accuracy: 0.9547 - val_loss: 0.1452 - val_accuracy: 0.9601\n",
      "Epoch 3/10\n",
      "1563/1563 [==============================] - 6s 4ms/step - loss: 0.1413 - accuracy: 0.9627 - val_loss: 0.1134 - val_accuracy: 0.9716\n",
      "Epoch 4/10\n",
      "1563/1563 [==============================] - 6s 4ms/step - loss: 0.1237 - accuracy: 0.9675 - val_loss: 0.1075 - val_accuracy: 0.9727\n",
      "Epoch 5/10\n",
      "1563/1563 [==============================] - 6s 4ms/step - loss: 0.1160 - accuracy: 0.9708 - val_loss: 0.1135 - val_accuracy: 0.9737\n",
      "Epoch 6/10\n",
      "1563/1563 [==============================] - 6s 4ms/step - loss: 0.1147 - accuracy: 0.9728 - val_loss: 0.1090 - val_accuracy: 0.9761\n",
      "Epoch 7/10\n",
      "1563/1563 [==============================] - 6s 4ms/step - loss: 0.1071 - accuracy: 0.9745 - val_loss: 0.1087 - val_accuracy: 0.9776\n",
      "Epoch 8/10\n",
      "1563/1563 [==============================] - 6s 4ms/step - loss: 0.1016 - accuracy: 0.9763 - val_loss: 0.1161 - val_accuracy: 0.9755\n",
      "Epoch 9/10\n",
      "1563/1563 [==============================] - 6s 4ms/step - loss: 0.0948 - accuracy: 0.9771 - val_loss: 0.1136 - val_accuracy: 0.9777\n",
      "Epoch 10/10\n",
      "1563/1563 [==============================] - 6s 4ms/step - loss: 0.0979 - accuracy: 0.9778 - val_loss: 0.1171 - val_accuracy: 0.9782\n"
     ]
    },
    {
     "data": {
      "text/plain": [
       "<keras.callbacks.History at 0x262b1add430>"
      ]
     },
     "execution_count": 39,
     "metadata": {},
     "output_type": "execute_result"
    }
   ],
   "source": [
    "model = get_mnist_model()\n",
    "model.compile(optimizer=\"rmsprop\",\n",
    "              loss=\"sparse_categorical_crossentropy\",\n",
    "              metrics=[\"accuracy\"])\n",
    "\n",
    "tensorboard = keras.callbacks.TensorBoard(\n",
    "    log_dir=\"/full_path_to_your_log_dir\",\n",
    ")\n",
    "model.fit(train_images, train_labels,\n",
    "          epochs=10,\n",
    "          validation_data=(val_images, val_labels),\n",
    "          callbacks=[tensorboard])"
   ]
  },
  {
   "cell_type": "code",
   "execution_count": 40,
   "id": "4ee837b5",
   "metadata": {},
   "outputs": [
    {
     "data": {
      "text/html": [
       "\n",
       "      <iframe id=\"tensorboard-frame-15f9f91158a8de7e\" width=\"100%\" height=\"800\" frameborder=\"0\">\n",
       "      </iframe>\n",
       "      <script>\n",
       "        (function() {\n",
       "          const frame = document.getElementById(\"tensorboard-frame-15f9f91158a8de7e\");\n",
       "          const url = new URL(\"/\", window.location);\n",
       "          const port = 6006;\n",
       "          if (port) {\n",
       "            url.port = port;\n",
       "          }\n",
       "          frame.src = url;\n",
       "        })();\n",
       "      </script>\n",
       "    "
      ],
      "text/plain": [
       "<IPython.core.display.HTML object>"
      ]
     },
     "metadata": {},
     "output_type": "display_data"
    }
   ],
   "source": [
    "%load_ext tensorboard\n",
    "%tensorboard --logdir /full_path_to_your_log_dir"
   ]
  },
  {
   "cell_type": "code",
   "execution_count": 41,
   "id": "28d1265e",
   "metadata": {},
   "outputs": [
    {
     "name": "stdout",
     "output_type": "stream",
     "text": [
      "result: 1.00\n"
     ]
    }
   ],
   "source": [
    "metric = keras.metrics.SparseCategoricalAccuracy()\n",
    "targets = [0, 1, 2]\n",
    "predictions = [[1, 0, 0], [0, 1, 0], [0, 0, 1]]\n",
    "metric.update_state(targets, predictions)\n",
    "current_result = metric.result()\n",
    "print(f\"result: {current_result:.2f}\")"
   ]
  },
  {
   "cell_type": "code",
   "execution_count": 42,
   "id": "2d675dd7",
   "metadata": {},
   "outputs": [
    {
     "name": "stdout",
     "output_type": "stream",
     "text": [
      "Mean of values: 2.00\n"
     ]
    }
   ],
   "source": [
    "values = [0, 1, 2, 3, 4]\n",
    "mean_tracker = keras.metrics.Mean()\n",
    "for value in values:\n",
    "    mean_tracker.update_state(value)\n",
    "print(f\"Mean of values: {mean_tracker.result():.2f}\")"
   ]
  },
  {
   "cell_type": "code",
   "execution_count": 43,
   "id": "aca78fbd",
   "metadata": {},
   "outputs": [],
   "source": [
    "model = get_mnist_model()\n",
    "\n",
    "loss_fn = keras.losses.SparseCategoricalCrossentropy()\n",
    "optimizer = keras.optimizers.RMSprop()\n",
    "metrics = [keras.metrics.SparseCategoricalAccuracy()]\n",
    "loss_tracking_metric = keras.metrics.Mean()\n",
    "\n",
    "def train_step(inputs, targets):\n",
    "    with tf.GradientTape() as tape:\n",
    "        predictions = model(inputs, training=True)\n",
    "        loss = loss_fn(targets, predictions)\n",
    "    gradients = tape.gradient(loss, model.trainable_weights)\n",
    "    optimizer.apply_gradients(zip(gradients, model.trainable_weights))\n",
    "\n",
    "    logs = {}\n",
    "    for metric in metrics:\n",
    "        metric.update_state(targets, predictions)\n",
    "        logs[metric.name] = metric.result()\n",
    "\n",
    "    loss_tracking_metric.update_state(loss)\n",
    "    logs[\"loss\"] = loss_tracking_metric.result()\n",
    "    return logs"
   ]
  },
  {
   "cell_type": "code",
   "execution_count": 44,
   "id": "d91fc9ff",
   "metadata": {},
   "outputs": [],
   "source": [
    "def reset_metrics():\n",
    "    for metric in metrics:\n",
    "        metric.reset_state()\n",
    "    loss_tracking_metric.reset_state()"
   ]
  },
  {
   "cell_type": "code",
   "execution_count": 45,
   "id": "96d0c187",
   "metadata": {},
   "outputs": [
    {
     "name": "stdout",
     "output_type": "stream",
     "text": [
      "Results at the end of epoch 0\n",
      "...sparse_categorical_accuracy: 0.9139\n",
      "...loss: 0.2890\n",
      "Results at the end of epoch 1\n",
      "...sparse_categorical_accuracy: 0.9556\n",
      "...loss: 0.1636\n",
      "Results at the end of epoch 2\n",
      "...sparse_categorical_accuracy: 0.9624\n",
      "...loss: 0.1409\n"
     ]
    }
   ],
   "source": [
    "training_dataset = tf.data.Dataset.from_tensor_slices((train_images, train_labels))\n",
    "training_dataset = training_dataset.batch(32)\n",
    "epochs = 3\n",
    "for epoch in range(epochs):\n",
    "    reset_metrics()\n",
    "    for inputs_batch, targets_batch in training_dataset:\n",
    "        logs = train_step(inputs_batch, targets_batch)\n",
    "    print(f\"Results at the end of epoch {epoch}\")\n",
    "    for key, value in logs.items():\n",
    "        print(f\"...{key}: {value:.4f}\")"
   ]
  },
  {
   "cell_type": "code",
   "execution_count": 46,
   "id": "832cac72",
   "metadata": {},
   "outputs": [
    {
     "name": "stdout",
     "output_type": "stream",
     "text": [
      "Evaluation results:\n",
      "...val_sparse_categorical_accuracy: 0.9674\n",
      "...val_loss: 0.1308\n"
     ]
    }
   ],
   "source": [
    "def test_step(inputs, targets):\n",
    "    predictions = model(inputs, training=False)\n",
    "    loss = loss_fn(targets, predictions)\n",
    "\n",
    "    logs = {}\n",
    "    for metric in metrics:\n",
    "        metric.update_state(targets, predictions)\n",
    "        logs[\"val_\" + metric.name] = metric.result()\n",
    "\n",
    "    loss_tracking_metric.update_state(loss)\n",
    "    logs[\"val_loss\"] = loss_tracking_metric.result()\n",
    "    return logs\n",
    "\n",
    "val_dataset = tf.data.Dataset.from_tensor_slices((val_images, val_labels))\n",
    "val_dataset = val_dataset.batch(32)\n",
    "reset_metrics()\n",
    "for inputs_batch, targets_batch in val_dataset:\n",
    "    logs = test_step(inputs_batch, targets_batch)\n",
    "print(\"Evaluation results:\")\n",
    "for key, value in logs.items():\n",
    "    print(f\"...{key}: {value:.4f}\")"
   ]
  },
  {
   "cell_type": "code",
   "execution_count": 47,
   "id": "f3b405f0",
   "metadata": {},
   "outputs": [
    {
     "name": "stdout",
     "output_type": "stream",
     "text": [
      "Evaluation results:\n",
      "...val_sparse_categorical_accuracy: 0.9674\n",
      "...val_loss: 0.1308\n"
     ]
    }
   ],
   "source": [
    "@tf.function\n",
    "def test_step(inputs, targets):\n",
    "    predictions = model(inputs, training=False)\n",
    "    loss = loss_fn(targets, predictions)\n",
    "\n",
    "    logs = {}\n",
    "    for metric in metrics:\n",
    "        metric.update_state(targets, predictions)\n",
    "        logs[\"val_\" + metric.name] = metric.result()\n",
    "\n",
    "    loss_tracking_metric.update_state(loss)\n",
    "    logs[\"val_loss\"] = loss_tracking_metric.result()\n",
    "    return logs\n",
    "\n",
    "val_dataset = tf.data.Dataset.from_tensor_slices((val_images, val_labels))\n",
    "val_dataset = val_dataset.batch(32)\n",
    "reset_metrics()\n",
    "for inputs_batch, targets_batch in val_dataset:\n",
    "    logs = test_step(inputs_batch, targets_batch)\n",
    "print(\"Evaluation results:\")\n",
    "for key, value in logs.items():\n",
    "    print(f\"...{key}: {value:.4f}\")"
   ]
  },
  {
   "cell_type": "code",
   "execution_count": 48,
   "id": "1486f794",
   "metadata": {},
   "outputs": [],
   "source": [
    "loss_fn = keras.losses.SparseCategoricalCrossentropy()\n",
    "loss_tracker = keras.metrics.Mean(name=\"loss\")\n",
    "\n",
    "class CustomModel(keras.Model):\n",
    "    def train_step(self, data):\n",
    "        inputs, targets = data\n",
    "        with tf.GradientTape() as tape:\n",
    "            predictions = self(inputs, training=True)\n",
    "            loss = loss_fn(targets, predictions)\n",
    "        gradients = tape.gradient(loss, self.trainable_weights)\n",
    "        self.optimizer.apply_gradients(zip(gradients, self.trainable_weights))\n",
    "\n",
    "        loss_tracker.update_state(loss)\n",
    "        return {\"loss\": loss_tracker.result()}\n",
    "\n",
    "    @property\n",
    "    def metrics(self):\n",
    "        return [loss_tracker]"
   ]
  },
  {
   "cell_type": "code",
   "execution_count": 49,
   "id": "e612f5e5",
   "metadata": {},
   "outputs": [
    {
     "name": "stdout",
     "output_type": "stream",
     "text": [
      "Epoch 1/3\n",
      "1563/1563 [==============================] - 6s 3ms/step - loss: 0.2951\n",
      "Epoch 2/3\n",
      "1563/1563 [==============================] - 5s 3ms/step - loss: 0.1689\n",
      "Epoch 3/3\n",
      "1563/1563 [==============================] - 5s 3ms/step - loss: 0.1433\n"
     ]
    },
    {
     "data": {
      "text/plain": [
       "<keras.callbacks.History at 0x262b1149b50>"
      ]
     },
     "execution_count": 49,
     "metadata": {},
     "output_type": "execute_result"
    }
   ],
   "source": [
    "inputs = keras.Input(shape=(28 * 28,))\n",
    "features = layers.Dense(512, activation=\"relu\")(inputs)\n",
    "features = layers.Dropout(0.5)(features)\n",
    "outputs = layers.Dense(10, activation=\"softmax\")(features)\n",
    "model = CustomModel(inputs, outputs)\n",
    "\n",
    "model.compile(optimizer=keras.optimizers.RMSprop())\n",
    "model.fit(train_images, train_labels, epochs=3)"
   ]
  },
  {
   "cell_type": "code",
   "execution_count": 50,
   "id": "8a012018",
   "metadata": {},
   "outputs": [],
   "source": [
    "class CustomModel(keras.Model):\n",
    "    def train_step(self, data):\n",
    "        inputs, targets = data\n",
    "        with tf.GradientTape() as tape:\n",
    "            predictions = self(inputs, training=True)\n",
    "            loss = self.compiled_loss(targets, predictions)\n",
    "        gradients = tape.gradient(loss, self.trainable_weights)\n",
    "        self.optimizer.apply_gradients(zip(gradients, self.trainable_weights))\n",
    "        self.compiled_metrics.update_state(targets, predictions)\n",
    "        return {m.name: m.result() for m in self.metrics}"
   ]
  },
  {
   "cell_type": "code",
   "execution_count": 51,
   "id": "3dab973a",
   "metadata": {},
   "outputs": [
    {
     "name": "stdout",
     "output_type": "stream",
     "text": [
      "Epoch 1/3\n",
      "1563/1563 [==============================] - 6s 4ms/step - loss: 0.2916 - sparse_categorical_accuracy: 0.9143\n",
      "Epoch 2/3\n",
      "1563/1563 [==============================] - 5s 3ms/step - loss: 0.1609 - sparse_categorical_accuracy: 0.9545\n",
      "Epoch 3/3\n",
      "1563/1563 [==============================] - 5s 3ms/step - loss: 0.1385 - sparse_categorical_accuracy: 0.9635\n"
     ]
    },
    {
     "data": {
      "text/plain": [
       "<keras.callbacks.History at 0x262b11e1a00>"
      ]
     },
     "execution_count": 51,
     "metadata": {},
     "output_type": "execute_result"
    }
   ],
   "source": [
    "inputs = keras.Input(shape=(28 * 28,))\n",
    "features = layers.Dense(512, activation=\"relu\")(inputs)\n",
    "features = layers.Dropout(0.5)(features)\n",
    "outputs = layers.Dense(10, activation=\"softmax\")(features)\n",
    "model = CustomModel(inputs, outputs)\n",
    "\n",
    "model.compile(optimizer=keras.optimizers.RMSprop(),\n",
    "              loss=keras.losses.SparseCategoricalCrossentropy(),\n",
    "              metrics=[keras.metrics.SparseCategoricalAccuracy()])\n",
    "model.fit(train_images, train_labels, epochs=3)"
   ]
  },
  {
   "cell_type": "code",
   "execution_count": null,
   "id": "10ff964e",
   "metadata": {},
   "outputs": [],
   "source": []
  }
 ],
 "metadata": {
  "kernelspec": {
   "display_name": "Python 3 (ipykernel)",
   "language": "python",
   "name": "python3"
  },
  "language_info": {
   "codemirror_mode": {
    "name": "ipython",
    "version": 3
   },
   "file_extension": ".py",
   "mimetype": "text/x-python",
   "name": "python",
   "nbconvert_exporter": "python",
   "pygments_lexer": "ipython3",
   "version": "3.9.12"
  }
 },
 "nbformat": 4,
 "nbformat_minor": 5
}
