{
 "cells": [
  {
   "cell_type": "code",
   "execution_count": 25,
   "id": "50019c63-801f-4d12-a1d4-1190049e9e61",
   "metadata": {},
   "outputs": [],
   "source": [
    "import numpy as np\n",
    "import tensorflow.keras as keras\n",
    "import tensorflow as tf"
   ]
  },
  {
   "cell_type": "code",
   "execution_count": 26,
   "id": "493c9b05-b22a-4b65-8cfb-da1981dbda62",
   "metadata": {
    "tags": []
   },
   "outputs": [
    {
     "data": {
      "text/plain": [
       "((60000, 28, 28), (60000,), (10000, 28, 28), (10000,))"
      ]
     },
     "execution_count": 26,
     "metadata": {},
     "output_type": "execute_result"
    }
   ],
   "source": [
    "(aaa,bbb), (ccc,ddd)= keras. datasets.mnist.load_data()\n",
    "aaa.shape, bbb.shape, ccc.shape, ddd.shape"
   ]
  },
  {
   "cell_type": "code",
   "execution_count": 27,
   "id": "2e078dd7-b20c-4bbb-bb6a-3e2545ad0e94",
   "metadata": {},
   "outputs": [
    {
     "name": "stdout",
     "output_type": "stream",
     "text": [
      "  0  0  0  0  0  0  0  0  0  0  0  0  0  0  0  0  0  0  0  0  0  0  0  0  0  0  0  0\n",
      "  0  0  0  0  0  0  0  0  0  0  0  0  0  0  0  0  0  0  0  0  0  0  0  0  0  0  0  0\n",
      "  0  0  0  0  0  0  0  0  0  0  0  0  0  0  0  0  0  0  0  0  0  0  0  0  0  0  0  0\n",
      "  0  0  0  0  0  0  0  0  0  0  0  0  0  0  0  0  0  0  0  0  0  0  0  0  0  0  0  0\n",
      "  0  0  0  0  0  0  0  0  0  0  0  0  0  0  0  0  0  0  0  0  0  0  0  0  0  0  0  0\n",
      "  0  0  0  0  0  0  0  0  0  0  0  0  0  0  0  0  0  0  0  0  0  0  0  0  0  0  0  0\n",
      "  0  0  0  0  0  0  0  0  0  0  0  0  0  0  0  0  0  0  0  0  0  0  0  0  0  0  0  0\n",
      "  0  0  0  0  0 11 19 95143143143143143143143143 33  0  0  0  0  0  0  0  0  0  0  0\n",
      "  0  0  0 90149208253253253253253253253253253253217 22  0  0  0  0  0  0  0  0  0  0\n",
      "  0  0  0255253251222222161140 99 99 99 99143253253113  0  0  0  0  0  0  0  0  0  0\n",
      "  0  0  0217210 86  0  0  0  0  0  0  0 29161253253 82  0  0  0  0  0  0  0  0  0  0\n",
      "  0  0  0  0  0  0  0  0  0  0  0  0 33203253253174 13  0  0  0  0  0  0  0  0  0  0\n",
      "  0  0  0  0  0  0  0  0  0  0 10 78232253253253 43  0  0  0  0  0  0  0  0  0  0  0\n",
      "  0  0  0  0  0  0  0  0  0  0138253253253253253192180180128 32  0  0  0  0  0  0  0\n",
      "  0  0  0  0  0  0  0  0  0  0174253253253253253253253253253169  3  0  0  0  0  0  0\n",
      "  0  0  0  0  0  0  0  0  0  0 42 61 61 61 61 83176 79110247253195  4  0  0  0  0  0\n",
      "  0  0  0  0  0  0  0  0  0  0  0  0  0  0 59192 30  0  0 50203253 42  0  0  0  0  0\n",
      "  0  0  0  0  0  0  0  0  0  0  0  0  0 56195 57  0  0  0  0112253229  0  0  0  0  0\n",
      "  0  0  0  0  0  0  0  0  0  0  0  0  0172204 17  0  0  0  0 58248253  0  0  0  0  0\n",
      "  0  0  0  0  0  0  0  0  0  0  0  0  0192253184 62  0  0 85164253253  0  0  0  0  0\n",
      "  0  0  0  0  0  0  0  0  0  0  0  0  0144253253243223223250253253 96  0  0  0  0  0\n",
      "  0  0  0  0  0  0  0  0  0  0  0  0  0  7152253253253253253253152  3  0  0  0  0  0\n",
      "  0  0  0  0  0  0  0  0  0  0  0  0  0  0  6 18122141141141 87  1  0  0  0  0  0  0\n",
      "  0  0  0  0  0  0  0  0  0  0  0  0  0  0  0  0  0  0  0  0  0  0  0  0  0  0  0  0\n",
      "  0  0  0  0  0  0  0  0  0  0  0  0  0  0  0  0  0  0  0  0  0  0  0  0  0  0  0  0\n",
      "  0  0  0  0  0  0  0  0  0  0  0  0  0  0  0  0  0  0  0  0  0  0  0  0  0  0  0  0\n",
      "  0  0  0  0  0  0  0  0  0  0  0  0  0  0  0  0  0  0  0  0  0  0  0  0  0  0  0  0\n",
      "  0  0  0  0  0  0  0  0  0  0  0  0  0  0  0  0  0  0  0  0  0  0  0  0  0  0  0  0\n"
     ]
    }
   ],
   "source": [
    "x= aaa[30]\n",
    "for i in range(28):\n",
    "    for j in range(28):\n",
    "        z= x[i,j]\n",
    "        print(f'{z:3d}', end='')\n",
    "    print()\n",
    "    \n",
    "#range(28)代表由28X28矩陣所組成"
   ]
  },
  {
   "cell_type": "code",
   "execution_count": 28,
   "id": "27cfbf97-36ba-4a70-b19e-feff43dd83e9",
   "metadata": {},
   "outputs": [
    {
     "data": {
      "text/plain": [
       "<matplotlib.image.AxesImage at 0x18ab0895f10>"
      ]
     },
     "execution_count": 28,
     "metadata": {},
     "output_type": "execute_result"
    },
    {
     "data": {
      "image/png": "[encoded data removed]",
      "text/plain": [
       "<Figure size 432x288 with 1 Axes>"
      ]
     },
     "metadata": {
      "needs_background": "light"
     },
     "output_type": "display_data"
    }
   ],
   "source": [
    "import matplotlib.pyplot as pl\n",
    "\n",
    "pl.imshow(x)"
   ]
  },
  {
   "cell_type": "code",
   "execution_count": null,
   "id": "294f2b1c-8e08-4030-89fa-a7394df30dbb",
   "metadata": {},
   "outputs": [],
   "source": []
  },
  {
   "cell_type": "code",
   "execution_count": 29,
   "id": "da33935c-1181-4a71-9f2e-8f018c04d9ef",
   "metadata": {},
   "outputs": [],
   "source": [
    "from tensorflow.keras import models\n",
    "from tensorflow.keras import layers\n",
    "\n",
    "network = models.Sequential()\n",
    "network.add(layers.Dense(512,activation=\"relu\",input_shape=(28*28,)))\n",
    "network.add(layers.Dense(256,activation=\"relu\",input_shape=(28*28,)))\n",
    "network.add(layers.Dense(10,activation='softmax'))"
   ]
  },
  {
   "cell_type": "code",
   "execution_count": 30,
   "id": "51ff34f8-2dc1-4c18-9c24-d2d5c612d29e",
   "metadata": {},
   "outputs": [],
   "source": [
    "network.compile(\n",
    "    optimizer = 'Nadam', # 指定優化器→控制梯度下降的確切規則\n",
    "    loss = 'categorical_crossentropy', # 指定損失函數\n",
    "    metrics = ['accuracy'] # 指定評量準則\n",
    ")"
   ]
  },
  {
   "cell_type": "code",
   "execution_count": 31,
   "id": "eb51d8dc-1726-4ecc-b243-d896aff7694c",
   "metadata": {},
   "outputs": [],
   "source": [
    "aaa = aaa.reshape((60000,28*28))\n",
    "aaa = aaa.astype('float32')/ 255\n",
    "\n",
    "ccc = ccc.reshape((10000,28*28))\n",
    "ccc = ccc.astype('float32')/ 255"
   ]
  },
  {
   "cell_type": "code",
   "execution_count": 32,
   "id": "3fb71b93-4109-49e0-ae1a-9129180ffa28",
   "metadata": {},
   "outputs": [],
   "source": [
    "from tensorflow.keras.utils import to_categorical\n",
    "\n",
    "bbb = to_categorical(bbb)\n",
    "ddd = to_categorical(ddd)"
   ]
  },
  {
   "cell_type": "code",
   "execution_count": 33,
   "id": "46ae5f63-2fae-44da-b87e-380e67dc9188",
   "metadata": {},
   "outputs": [
    {
     "name": "stdout",
     "output_type": "stream",
     "text": [
      "Epoch 1/16\n",
      "375/375 [==============================] - 3s 7ms/step - loss: 0.2582 - accuracy: 0.9257 - val_loss: 0.1243 - val_accuracy: 0.9622\n",
      "Epoch 2/16\n",
      "375/375 [==============================] - 3s 7ms/step - loss: 0.0913 - accuracy: 0.9726 - val_loss: 0.0977 - val_accuracy: 0.9709\n",
      "Epoch 3/16\n",
      "375/375 [==============================] - 3s 7ms/step - loss: 0.0549 - accuracy: 0.9826 - val_loss: 0.0971 - val_accuracy: 0.9707\n",
      "Epoch 4/16\n",
      "375/375 [==============================] - 2s 7ms/step - loss: 0.0365 - accuracy: 0.9887 - val_loss: 0.0785 - val_accuracy: 0.9780\n",
      "Epoch 5/16\n",
      "375/375 [==============================] - 3s 7ms/step - loss: 0.0253 - accuracy: 0.9921 - val_loss: 0.0894 - val_accuracy: 0.9740\n",
      "Epoch 6/16\n",
      "375/375 [==============================] - 3s 7ms/step - loss: 0.0200 - accuracy: 0.9932 - val_loss: 0.0764 - val_accuracy: 0.9780\n",
      "Epoch 7/16\n",
      "375/375 [==============================] - 3s 7ms/step - loss: 0.0143 - accuracy: 0.9955 - val_loss: 0.0999 - val_accuracy: 0.9760\n",
      "Epoch 8/16\n",
      "375/375 [==============================] - 3s 7ms/step - loss: 0.0139 - accuracy: 0.9957 - val_loss: 0.1034 - val_accuracy: 0.9757\n",
      "Epoch 9/16\n",
      "375/375 [==============================] - 3s 7ms/step - loss: 0.0114 - accuracy: 0.9964 - val_loss: 0.1145 - val_accuracy: 0.9724\n",
      "Epoch 10/16\n",
      "375/375 [==============================] - 3s 7ms/step - loss: 0.0140 - accuracy: 0.9958 - val_loss: 0.1091 - val_accuracy: 0.9753\n",
      "Epoch 11/16\n",
      "375/375 [==============================] - 3s 7ms/step - loss: 0.0079 - accuracy: 0.9974 - val_loss: 0.1188 - val_accuracy: 0.9755\n",
      "Epoch 12/16\n",
      "375/375 [==============================] - 2s 7ms/step - loss: 0.0143 - accuracy: 0.9953 - val_loss: 0.1196 - val_accuracy: 0.9748\n",
      "Epoch 13/16\n",
      "375/375 [==============================] - 3s 7ms/step - loss: 0.0084 - accuracy: 0.9973 - val_loss: 0.0998 - val_accuracy: 0.9790\n",
      "Epoch 14/16\n",
      "375/375 [==============================] - 3s 7ms/step - loss: 0.0106 - accuracy: 0.9961 - val_loss: 0.1307 - val_accuracy: 0.9768\n",
      "Epoch 15/16\n",
      "375/375 [==============================] - 3s 7ms/step - loss: 0.0096 - accuracy: 0.9969 - val_loss: 0.1279 - val_accuracy: 0.9743\n",
      "Epoch 16/16\n",
      "375/375 [==============================] - 2s 6ms/step - loss: 0.0068 - accuracy: 0.9976 - val_loss: 0.1223 - val_accuracy: 0.9771\n"
     ]
    },
    {
     "data": {
      "text/plain": [
       "<keras.callbacks.History at 0x18ab0916cd0>"
      ]
     },
     "execution_count": 33,
     "metadata": {},
     "output_type": "execute_result"
    }
   ],
   "source": [
    "network.fit(aaa,bbb,epochs=16,batch_size=128,validation_split=0.2)"
   ]
  },
  {
   "cell_type": "code",
   "execution_count": 34,
   "id": "c66c9105-c9a9-44d7-9c09-51c6d508dad8",
   "metadata": {},
   "outputs": [
    {
     "name": "stdout",
     "output_type": "stream",
     "text": [
      "Model: \"sequential_2\"\n",
      "_________________________________________________________________\n",
      " Layer (type)                Output Shape              Param #   \n",
      "=================================================================\n",
      " dense_6 (Dense)             (None, 512)               401920    \n",
      "                                                                 \n",
      " dense_7 (Dense)             (None, 256)               131328    \n",
      "                                                                 \n",
      " dense_8 (Dense)             (None, 10)                2570      \n",
      "                                                                 \n",
      "=================================================================\n",
      "Total params: 535,818\n",
      "Trainable params: 535,818\n",
      "Non-trainable params: 0\n",
      "_________________________________________________________________\n"
     ]
    },
    {
     "data": {
      "image/png": "[encoded data removed]",
      "text/plain": [
       "<IPython.core.display.Image object>"
      ]
     },
     "execution_count": 34,
     "metadata": {},
     "output_type": "execute_result"
    }
   ],
   "source": [
    "from tensorflow.keras.utils import plot_model\n",
    "network.summary()\n",
    "\n",
    "plot_model(network, \n",
    "    show_shapes= True,\n",
    ")"
   ]
  },
  {
   "cell_type": "code",
   "execution_count": 35,
   "id": "db61e769-2c35-41ea-9eb1-65d12d41f563",
   "metadata": {},
   "outputs": [
    {
     "name": "stdout",
     "output_type": "stream",
     "text": [
      "313/313 [==============================] - 0s 1ms/step - loss: 0.1032 - accuracy: 0.9792\n",
      "test_acc: 0.979200005531311\n"
     ]
    }
   ],
   "source": [
    "test_loss , test_acc = network.evaluate(ccc,ddd)\n",
    "\n",
    "print('test_acc:',test_acc)"
   ]
  },
  {
   "cell_type": "code",
   "execution_count": null,
   "id": "59ad8d2b-bcdc-4806-a506-d54e06eb2ac0",
   "metadata": {},
   "outputs": [],
   "source": []
  },
  {
   "cell_type": "code",
   "execution_count": null,
   "id": "99f486b1-46cf-4358-844b-4fededbe2e7d",
   "metadata": {},
   "outputs": [],
   "source": []
  },
  {
   "cell_type": "code",
   "execution_count": null,
   "id": "296efe7a-2f56-4ace-b199-7104aa9cdccb",
   "metadata": {},
   "outputs": [],
   "source": []
  }
 ],
 "metadata": {
  "kernelspec": {
   "display_name": "Python 3 (ipykernel)",
   "language": "python",
   "name": "python3"
  },
  "language_info": {
   "codemirror_mode": {
    "name": "ipython",
    "version": 3
   },
   "file_extension": ".py",
   "mimetype": "text/x-python",
   "name": "python",
   "nbconvert_exporter": "python",
   "pygments_lexer": "ipython3",
   "version": "3.9.12"
  }
 },
 "nbformat": 4,
 "nbformat_minor": 5
}
